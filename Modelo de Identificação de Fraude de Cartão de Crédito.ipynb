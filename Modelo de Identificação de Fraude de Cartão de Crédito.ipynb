{
 "cells": [
  {
   "cell_type": "markdown",
   "id": "828a2f66",
   "metadata": {},
   "source": [
    "## Modelo de identificação de fraude de cartão de crédito\n",
    "\n",
    "Este projeto tem como objetivo a criação de um modelo de machine learning para identificar fraudes em cartão de crédito, a base de dados utilizada está disponibilizada no site kaggle, esta base contém apenas variáveis numéricas, resultado da transformação PCA (Análise de componentes principais), devido a questões de confidencialidade, não podemos fornecer os recursos originais e mais informações básicas sobre os dados.\n",
    "\n",
    "Para este projeto o foco será na identificação de fraudes o mais precisamente possível mantendo o erro das transações não fraude perto dos 10-15%.\n",
    "\n",
    "Base de dados utilizada: https://www.kaggle.com/datasets/mlg-ulb/creditcardfraud\n",
    "\n",
    "Informações da base:\n",
    "<br>\n",
    "'Time' (tempo): contém os segundos decorridos entre cada transação e a primeira transação no conjunto de dados.\n",
    "<br>\n",
    "'Amount' (valor): é o valor da transação.\n",
    "<br>\n",
    "'Class' (classe): é a variável de resposta e assume valor 1 em caso de fraude e 0 caso contrário.\n",
    "<br>\n",
    "Características V1, V2, … V28 são os principais componentes obtidos com PCA.\n",
    "\n",
    "Obs: Para este modelo, já realizei o download da base de dados ('creditcard.csv') no kaggle e também irei disponibilizar o arquivo no repositório do projeto."
   ]
  },
  {
   "cell_type": "markdown",
   "id": "cd56ba4d",
   "metadata": {},
   "source": [
    "## Índice\n",
    "* [Extração e Tratamento de dados](#etl)\n",
    "    * [Carregando a base de dados](#import)\n",
    "    * [Tratamento dos dados](#tratamento)\n",
    "    * [Dividindo a base de dados](#dividir)\n",
    "* [Criando modelo de machine learning](#ml)\n",
    "    * [Primeiro modelo](#first)\n",
    "    * [Random Undersampling](#under)\n",
    "    * [Random Oversampling](#over)\n",
    "    * [Undersampling com Cluster Centroids](#cc)\n",
    "    * [Undersampling com Near Miss](#nm)\n",
    "    * [Oversampling com SMOTE](#smote)\n",
    "    * [Oversampling com ADASYN](#adasyn)\n",
    "    * [Combinando métodos](#comb)\n",
    "    * [Testando alguns modelos de machine learning com Random Undersampling](#test)\n",
    "* [GridSearchCV](#gridsearchcv)\n",
    "    * [Regressão Logística](#rl)\n",
    "    * [SVC](#svc)\n",
    "    * [Random Forest](#rf)\n",
    "    * [KNN](#knn)\n",
    "* [Conclusão](#conclusion)"
   ]
  },
  {
   "cell_type": "markdown",
   "id": "afda340c",
   "metadata": {},
   "source": [
    "#### Pacotes necessários para a criação do projeto"
   ]
  },
  {
   "cell_type": "code",
   "execution_count": 1,
   "id": "19cc81ca",
   "metadata": {},
   "outputs": [],
   "source": [
    "# Extração e tratamento dos dados\n",
    "import pandas as pd\n",
    "import numpy as np\n",
    "\n",
    "# Visualização dos dados\n",
    "import matplotlib.pyplot as plt\n",
    "import seaborn as sns\n",
    "\n",
    "# Balanceamento da base de dados (imbalanced-learn)\n",
    "from imblearn.under_sampling import RandomUnderSampler\n",
    "from imblearn.under_sampling import ClusterCentroids \n",
    "from imblearn.under_sampling import NearMiss \n",
    "from imblearn.over_sampling import RandomOverSampler\n",
    "from imblearn.over_sampling import SMOTE\n",
    "from imblearn.over_sampling import ADASYN\n",
    "from imblearn.combine import SMOTEENN \n",
    "\n",
    "# Modelo de machine learning\n",
    "from sklearn.model_selection import train_test_split\n",
    "from sklearn import tree\n",
    "from sklearn.linear_model import LogisticRegression\n",
    "from sklearn.svm import SVC\n",
    "from sklearn.model_selection import GridSearchCV\n",
    "\n",
    "# Classificadores de modelos de machien learning\n",
    "from sklearn.neighbors import KNeighborsClassifier\n",
    "from sklearn.ensemble import RandomForestClassifier\n",
    "from sklearn.metrics import accuracy_score\n",
    "from sklearn.metrics import confusion_matrix\n",
    "from sklearn.metrics import precision_score\n",
    "from sklearn.metrics import recall_score\n",
    "from sklearn.metrics import roc_curve\n",
    "from sklearn.metrics import roc_auc_score\n",
    "from sklearn.metrics import precision_recall_curve\n",
    "from sklearn.metrics import auc"
   ]
  },
  {
   "cell_type": "markdown",
   "id": "23c7fb0d",
   "metadata": {},
   "source": [
    "## Extração e Tratamento dos dados <a class=\"anchor\" id=\"etl\"></a>"
   ]
  },
  {
   "cell_type": "markdown",
   "id": "2e2d662a",
   "metadata": {},
   "source": [
    "#### Importando a base de dados <a class=\"anchor\" id=\"import\"></a>"
   ]
  },
  {
   "cell_type": "code",
   "execution_count": 2,
   "id": "32b51bd4",
   "metadata": {},
   "outputs": [
    {
     "data": {
      "text/html": [
       "<div>\n",
       "<style scoped>\n",
       "    .dataframe tbody tr th:only-of-type {\n",
       "        vertical-align: middle;\n",
       "    }\n",
       "\n",
       "    .dataframe tbody tr th {\n",
       "        vertical-align: top;\n",
       "    }\n",
       "\n",
       "    .dataframe thead th {\n",
       "        text-align: right;\n",
       "    }\n",
       "</style>\n",
       "<table border=\"1\" class=\"dataframe\">\n",
       "  <thead>\n",
       "    <tr style=\"text-align: right;\">\n",
       "      <th></th>\n",
       "      <th>Time</th>\n",
       "      <th>V1</th>\n",
       "      <th>V2</th>\n",
       "      <th>V3</th>\n",
       "      <th>V4</th>\n",
       "      <th>V5</th>\n",
       "      <th>V6</th>\n",
       "      <th>V7</th>\n",
       "      <th>V8</th>\n",
       "      <th>V9</th>\n",
       "      <th>...</th>\n",
       "      <th>V21</th>\n",
       "      <th>V22</th>\n",
       "      <th>V23</th>\n",
       "      <th>V24</th>\n",
       "      <th>V25</th>\n",
       "      <th>V26</th>\n",
       "      <th>V27</th>\n",
       "      <th>V28</th>\n",
       "      <th>Amount</th>\n",
       "      <th>Class</th>\n",
       "    </tr>\n",
       "  </thead>\n",
       "  <tbody>\n",
       "    <tr>\n",
       "      <th>0</th>\n",
       "      <td>0.0</td>\n",
       "      <td>-1.359807</td>\n",
       "      <td>-0.072781</td>\n",
       "      <td>2.536347</td>\n",
       "      <td>1.378155</td>\n",
       "      <td>-0.338321</td>\n",
       "      <td>0.462388</td>\n",
       "      <td>0.239599</td>\n",
       "      <td>0.098698</td>\n",
       "      <td>0.363787</td>\n",
       "      <td>...</td>\n",
       "      <td>-0.018307</td>\n",
       "      <td>0.277838</td>\n",
       "      <td>-0.110474</td>\n",
       "      <td>0.066928</td>\n",
       "      <td>0.128539</td>\n",
       "      <td>-0.189115</td>\n",
       "      <td>0.133558</td>\n",
       "      <td>-0.021053</td>\n",
       "      <td>149.62</td>\n",
       "      <td>0</td>\n",
       "    </tr>\n",
       "    <tr>\n",
       "      <th>1</th>\n",
       "      <td>0.0</td>\n",
       "      <td>1.191857</td>\n",
       "      <td>0.266151</td>\n",
       "      <td>0.166480</td>\n",
       "      <td>0.448154</td>\n",
       "      <td>0.060018</td>\n",
       "      <td>-0.082361</td>\n",
       "      <td>-0.078803</td>\n",
       "      <td>0.085102</td>\n",
       "      <td>-0.255425</td>\n",
       "      <td>...</td>\n",
       "      <td>-0.225775</td>\n",
       "      <td>-0.638672</td>\n",
       "      <td>0.101288</td>\n",
       "      <td>-0.339846</td>\n",
       "      <td>0.167170</td>\n",
       "      <td>0.125895</td>\n",
       "      <td>-0.008983</td>\n",
       "      <td>0.014724</td>\n",
       "      <td>2.69</td>\n",
       "      <td>0</td>\n",
       "    </tr>\n",
       "    <tr>\n",
       "      <th>2</th>\n",
       "      <td>1.0</td>\n",
       "      <td>-1.358354</td>\n",
       "      <td>-1.340163</td>\n",
       "      <td>1.773209</td>\n",
       "      <td>0.379780</td>\n",
       "      <td>-0.503198</td>\n",
       "      <td>1.800499</td>\n",
       "      <td>0.791461</td>\n",
       "      <td>0.247676</td>\n",
       "      <td>-1.514654</td>\n",
       "      <td>...</td>\n",
       "      <td>0.247998</td>\n",
       "      <td>0.771679</td>\n",
       "      <td>0.909412</td>\n",
       "      <td>-0.689281</td>\n",
       "      <td>-0.327642</td>\n",
       "      <td>-0.139097</td>\n",
       "      <td>-0.055353</td>\n",
       "      <td>-0.059752</td>\n",
       "      <td>378.66</td>\n",
       "      <td>0</td>\n",
       "    </tr>\n",
       "    <tr>\n",
       "      <th>3</th>\n",
       "      <td>1.0</td>\n",
       "      <td>-0.966272</td>\n",
       "      <td>-0.185226</td>\n",
       "      <td>1.792993</td>\n",
       "      <td>-0.863291</td>\n",
       "      <td>-0.010309</td>\n",
       "      <td>1.247203</td>\n",
       "      <td>0.237609</td>\n",
       "      <td>0.377436</td>\n",
       "      <td>-1.387024</td>\n",
       "      <td>...</td>\n",
       "      <td>-0.108300</td>\n",
       "      <td>0.005274</td>\n",
       "      <td>-0.190321</td>\n",
       "      <td>-1.175575</td>\n",
       "      <td>0.647376</td>\n",
       "      <td>-0.221929</td>\n",
       "      <td>0.062723</td>\n",
       "      <td>0.061458</td>\n",
       "      <td>123.50</td>\n",
       "      <td>0</td>\n",
       "    </tr>\n",
       "    <tr>\n",
       "      <th>4</th>\n",
       "      <td>2.0</td>\n",
       "      <td>-1.158233</td>\n",
       "      <td>0.877737</td>\n",
       "      <td>1.548718</td>\n",
       "      <td>0.403034</td>\n",
       "      <td>-0.407193</td>\n",
       "      <td>0.095921</td>\n",
       "      <td>0.592941</td>\n",
       "      <td>-0.270533</td>\n",
       "      <td>0.817739</td>\n",
       "      <td>...</td>\n",
       "      <td>-0.009431</td>\n",
       "      <td>0.798278</td>\n",
       "      <td>-0.137458</td>\n",
       "      <td>0.141267</td>\n",
       "      <td>-0.206010</td>\n",
       "      <td>0.502292</td>\n",
       "      <td>0.219422</td>\n",
       "      <td>0.215153</td>\n",
       "      <td>69.99</td>\n",
       "      <td>0</td>\n",
       "    </tr>\n",
       "  </tbody>\n",
       "</table>\n",
       "<p>5 rows × 31 columns</p>\n",
       "</div>"
      ],
      "text/plain": [
       "   Time        V1        V2        V3        V4        V5        V6        V7  \\\n",
       "0   0.0 -1.359807 -0.072781  2.536347  1.378155 -0.338321  0.462388  0.239599   \n",
       "1   0.0  1.191857  0.266151  0.166480  0.448154  0.060018 -0.082361 -0.078803   \n",
       "2   1.0 -1.358354 -1.340163  1.773209  0.379780 -0.503198  1.800499  0.791461   \n",
       "3   1.0 -0.966272 -0.185226  1.792993 -0.863291 -0.010309  1.247203  0.237609   \n",
       "4   2.0 -1.158233  0.877737  1.548718  0.403034 -0.407193  0.095921  0.592941   \n",
       "\n",
       "         V8        V9  ...       V21       V22       V23       V24       V25  \\\n",
       "0  0.098698  0.363787  ... -0.018307  0.277838 -0.110474  0.066928  0.128539   \n",
       "1  0.085102 -0.255425  ... -0.225775 -0.638672  0.101288 -0.339846  0.167170   \n",
       "2  0.247676 -1.514654  ...  0.247998  0.771679  0.909412 -0.689281 -0.327642   \n",
       "3  0.377436 -1.387024  ... -0.108300  0.005274 -0.190321 -1.175575  0.647376   \n",
       "4 -0.270533  0.817739  ... -0.009431  0.798278 -0.137458  0.141267 -0.206010   \n",
       "\n",
       "        V26       V27       V28  Amount  Class  \n",
       "0 -0.189115  0.133558 -0.021053  149.62      0  \n",
       "1  0.125895 -0.008983  0.014724    2.69      0  \n",
       "2 -0.139097 -0.055353 -0.059752  378.66      0  \n",
       "3 -0.221929  0.062723  0.061458  123.50      0  \n",
       "4  0.502292  0.219422  0.215153   69.99      0  \n",
       "\n",
       "[5 rows x 31 columns]"
      ]
     },
     "execution_count": 2,
     "metadata": {},
     "output_type": "execute_result"
    }
   ],
   "source": [
    "df_transacoes = pd.read_csv('creditcard.csv')\n",
    "df_transacoes.head(5)"
   ]
  },
  {
   "cell_type": "markdown",
   "id": "c817ef33",
   "metadata": {},
   "source": [
    "#### Verificando informações do Data Frame\n",
    "\n",
    "O Data Frame possui 31 colunas contendo valores numéricos contendo 284.807 linhas cada coluna"
   ]
  },
  {
   "cell_type": "code",
   "execution_count": 4,
   "id": "51747567",
   "metadata": {},
   "outputs": [
    {
     "name": "stdout",
     "output_type": "stream",
     "text": [
      "<class 'pandas.core.frame.DataFrame'>\n",
      "RangeIndex: 284807 entries, 0 to 284806\n",
      "Data columns (total 31 columns):\n",
      " #   Column  Non-Null Count   Dtype  \n",
      "---  ------  --------------   -----  \n",
      " 0   Time    284807 non-null  float64\n",
      " 1   V1      284807 non-null  float64\n",
      " 2   V2      284807 non-null  float64\n",
      " 3   V3      284807 non-null  float64\n",
      " 4   V4      284807 non-null  float64\n",
      " 5   V5      284807 non-null  float64\n",
      " 6   V6      284807 non-null  float64\n",
      " 7   V7      284807 non-null  float64\n",
      " 8   V8      284807 non-null  float64\n",
      " 9   V9      284807 non-null  float64\n",
      " 10  V10     284807 non-null  float64\n",
      " 11  V11     284807 non-null  float64\n",
      " 12  V12     284807 non-null  float64\n",
      " 13  V13     284807 non-null  float64\n",
      " 14  V14     284807 non-null  float64\n",
      " 15  V15     284807 non-null  float64\n",
      " 16  V16     284807 non-null  float64\n",
      " 17  V17     284807 non-null  float64\n",
      " 18  V18     284807 non-null  float64\n",
      " 19  V19     284807 non-null  float64\n",
      " 20  V20     284807 non-null  float64\n",
      " 21  V21     284807 non-null  float64\n",
      " 22  V22     284807 non-null  float64\n",
      " 23  V23     284807 non-null  float64\n",
      " 24  V24     284807 non-null  float64\n",
      " 25  V25     284807 non-null  float64\n",
      " 26  V26     284807 non-null  float64\n",
      " 27  V27     284807 non-null  float64\n",
      " 28  V28     284807 non-null  float64\n",
      " 29  Amount  284807 non-null  float64\n",
      " 30  Class   284807 non-null  int64  \n",
      "dtypes: float64(30), int64(1)\n",
      "memory usage: 67.4 MB\n"
     ]
    }
   ],
   "source": [
    "df_transacoes.info()"
   ]
  },
  {
   "cell_type": "markdown",
   "id": "ebb1494a",
   "metadata": {},
   "source": [
    "#### Resumo estatístico do Data Frame"
   ]
  },
  {
   "cell_type": "code",
   "execution_count": 5,
   "id": "183c5f58",
   "metadata": {},
   "outputs": [
    {
     "data": {
      "text/html": [
       "<div>\n",
       "<style scoped>\n",
       "    .dataframe tbody tr th:only-of-type {\n",
       "        vertical-align: middle;\n",
       "    }\n",
       "\n",
       "    .dataframe tbody tr th {\n",
       "        vertical-align: top;\n",
       "    }\n",
       "\n",
       "    .dataframe thead th {\n",
       "        text-align: right;\n",
       "    }\n",
       "</style>\n",
       "<table border=\"1\" class=\"dataframe\">\n",
       "  <thead>\n",
       "    <tr style=\"text-align: right;\">\n",
       "      <th></th>\n",
       "      <th>Time</th>\n",
       "      <th>V1</th>\n",
       "      <th>V2</th>\n",
       "      <th>V3</th>\n",
       "      <th>V4</th>\n",
       "      <th>V5</th>\n",
       "      <th>V6</th>\n",
       "      <th>V7</th>\n",
       "      <th>V8</th>\n",
       "      <th>V9</th>\n",
       "      <th>...</th>\n",
       "      <th>V21</th>\n",
       "      <th>V22</th>\n",
       "      <th>V23</th>\n",
       "      <th>V24</th>\n",
       "      <th>V25</th>\n",
       "      <th>V26</th>\n",
       "      <th>V27</th>\n",
       "      <th>V28</th>\n",
       "      <th>Amount</th>\n",
       "      <th>Class</th>\n",
       "    </tr>\n",
       "  </thead>\n",
       "  <tbody>\n",
       "    <tr>\n",
       "      <th>count</th>\n",
       "      <td>284807.000000</td>\n",
       "      <td>2.848070e+05</td>\n",
       "      <td>2.848070e+05</td>\n",
       "      <td>2.848070e+05</td>\n",
       "      <td>2.848070e+05</td>\n",
       "      <td>2.848070e+05</td>\n",
       "      <td>2.848070e+05</td>\n",
       "      <td>2.848070e+05</td>\n",
       "      <td>2.848070e+05</td>\n",
       "      <td>2.848070e+05</td>\n",
       "      <td>...</td>\n",
       "      <td>2.848070e+05</td>\n",
       "      <td>2.848070e+05</td>\n",
       "      <td>2.848070e+05</td>\n",
       "      <td>2.848070e+05</td>\n",
       "      <td>2.848070e+05</td>\n",
       "      <td>2.848070e+05</td>\n",
       "      <td>2.848070e+05</td>\n",
       "      <td>2.848070e+05</td>\n",
       "      <td>284807.000000</td>\n",
       "      <td>284807.000000</td>\n",
       "    </tr>\n",
       "    <tr>\n",
       "      <th>mean</th>\n",
       "      <td>94813.859575</td>\n",
       "      <td>1.168375e-15</td>\n",
       "      <td>3.416908e-16</td>\n",
       "      <td>-1.379537e-15</td>\n",
       "      <td>2.074095e-15</td>\n",
       "      <td>9.604066e-16</td>\n",
       "      <td>1.487313e-15</td>\n",
       "      <td>-5.556467e-16</td>\n",
       "      <td>1.213481e-16</td>\n",
       "      <td>-2.406331e-15</td>\n",
       "      <td>...</td>\n",
       "      <td>1.654067e-16</td>\n",
       "      <td>-3.568593e-16</td>\n",
       "      <td>2.578648e-16</td>\n",
       "      <td>4.473266e-15</td>\n",
       "      <td>5.340915e-16</td>\n",
       "      <td>1.683437e-15</td>\n",
       "      <td>-3.660091e-16</td>\n",
       "      <td>-1.227390e-16</td>\n",
       "      <td>88.349619</td>\n",
       "      <td>0.001727</td>\n",
       "    </tr>\n",
       "    <tr>\n",
       "      <th>std</th>\n",
       "      <td>47488.145955</td>\n",
       "      <td>1.958696e+00</td>\n",
       "      <td>1.651309e+00</td>\n",
       "      <td>1.516255e+00</td>\n",
       "      <td>1.415869e+00</td>\n",
       "      <td>1.380247e+00</td>\n",
       "      <td>1.332271e+00</td>\n",
       "      <td>1.237094e+00</td>\n",
       "      <td>1.194353e+00</td>\n",
       "      <td>1.098632e+00</td>\n",
       "      <td>...</td>\n",
       "      <td>7.345240e-01</td>\n",
       "      <td>7.257016e-01</td>\n",
       "      <td>6.244603e-01</td>\n",
       "      <td>6.056471e-01</td>\n",
       "      <td>5.212781e-01</td>\n",
       "      <td>4.822270e-01</td>\n",
       "      <td>4.036325e-01</td>\n",
       "      <td>3.300833e-01</td>\n",
       "      <td>250.120109</td>\n",
       "      <td>0.041527</td>\n",
       "    </tr>\n",
       "    <tr>\n",
       "      <th>min</th>\n",
       "      <td>0.000000</td>\n",
       "      <td>-5.640751e+01</td>\n",
       "      <td>-7.271573e+01</td>\n",
       "      <td>-4.832559e+01</td>\n",
       "      <td>-5.683171e+00</td>\n",
       "      <td>-1.137433e+02</td>\n",
       "      <td>-2.616051e+01</td>\n",
       "      <td>-4.355724e+01</td>\n",
       "      <td>-7.321672e+01</td>\n",
       "      <td>-1.343407e+01</td>\n",
       "      <td>...</td>\n",
       "      <td>-3.483038e+01</td>\n",
       "      <td>-1.093314e+01</td>\n",
       "      <td>-4.480774e+01</td>\n",
       "      <td>-2.836627e+00</td>\n",
       "      <td>-1.029540e+01</td>\n",
       "      <td>-2.604551e+00</td>\n",
       "      <td>-2.256568e+01</td>\n",
       "      <td>-1.543008e+01</td>\n",
       "      <td>0.000000</td>\n",
       "      <td>0.000000</td>\n",
       "    </tr>\n",
       "    <tr>\n",
       "      <th>25%</th>\n",
       "      <td>54201.500000</td>\n",
       "      <td>-9.203734e-01</td>\n",
       "      <td>-5.985499e-01</td>\n",
       "      <td>-8.903648e-01</td>\n",
       "      <td>-8.486401e-01</td>\n",
       "      <td>-6.915971e-01</td>\n",
       "      <td>-7.682956e-01</td>\n",
       "      <td>-5.540759e-01</td>\n",
       "      <td>-2.086297e-01</td>\n",
       "      <td>-6.430976e-01</td>\n",
       "      <td>...</td>\n",
       "      <td>-2.283949e-01</td>\n",
       "      <td>-5.423504e-01</td>\n",
       "      <td>-1.618463e-01</td>\n",
       "      <td>-3.545861e-01</td>\n",
       "      <td>-3.171451e-01</td>\n",
       "      <td>-3.269839e-01</td>\n",
       "      <td>-7.083953e-02</td>\n",
       "      <td>-5.295979e-02</td>\n",
       "      <td>5.600000</td>\n",
       "      <td>0.000000</td>\n",
       "    </tr>\n",
       "    <tr>\n",
       "      <th>50%</th>\n",
       "      <td>84692.000000</td>\n",
       "      <td>1.810880e-02</td>\n",
       "      <td>6.548556e-02</td>\n",
       "      <td>1.798463e-01</td>\n",
       "      <td>-1.984653e-02</td>\n",
       "      <td>-5.433583e-02</td>\n",
       "      <td>-2.741871e-01</td>\n",
       "      <td>4.010308e-02</td>\n",
       "      <td>2.235804e-02</td>\n",
       "      <td>-5.142873e-02</td>\n",
       "      <td>...</td>\n",
       "      <td>-2.945017e-02</td>\n",
       "      <td>6.781943e-03</td>\n",
       "      <td>-1.119293e-02</td>\n",
       "      <td>4.097606e-02</td>\n",
       "      <td>1.659350e-02</td>\n",
       "      <td>-5.213911e-02</td>\n",
       "      <td>1.342146e-03</td>\n",
       "      <td>1.124383e-02</td>\n",
       "      <td>22.000000</td>\n",
       "      <td>0.000000</td>\n",
       "    </tr>\n",
       "    <tr>\n",
       "      <th>75%</th>\n",
       "      <td>139320.500000</td>\n",
       "      <td>1.315642e+00</td>\n",
       "      <td>8.037239e-01</td>\n",
       "      <td>1.027196e+00</td>\n",
       "      <td>7.433413e-01</td>\n",
       "      <td>6.119264e-01</td>\n",
       "      <td>3.985649e-01</td>\n",
       "      <td>5.704361e-01</td>\n",
       "      <td>3.273459e-01</td>\n",
       "      <td>5.971390e-01</td>\n",
       "      <td>...</td>\n",
       "      <td>1.863772e-01</td>\n",
       "      <td>5.285536e-01</td>\n",
       "      <td>1.476421e-01</td>\n",
       "      <td>4.395266e-01</td>\n",
       "      <td>3.507156e-01</td>\n",
       "      <td>2.409522e-01</td>\n",
       "      <td>9.104512e-02</td>\n",
       "      <td>7.827995e-02</td>\n",
       "      <td>77.165000</td>\n",
       "      <td>0.000000</td>\n",
       "    </tr>\n",
       "    <tr>\n",
       "      <th>max</th>\n",
       "      <td>172792.000000</td>\n",
       "      <td>2.454930e+00</td>\n",
       "      <td>2.205773e+01</td>\n",
       "      <td>9.382558e+00</td>\n",
       "      <td>1.687534e+01</td>\n",
       "      <td>3.480167e+01</td>\n",
       "      <td>7.330163e+01</td>\n",
       "      <td>1.205895e+02</td>\n",
       "      <td>2.000721e+01</td>\n",
       "      <td>1.559499e+01</td>\n",
       "      <td>...</td>\n",
       "      <td>2.720284e+01</td>\n",
       "      <td>1.050309e+01</td>\n",
       "      <td>2.252841e+01</td>\n",
       "      <td>4.584549e+00</td>\n",
       "      <td>7.519589e+00</td>\n",
       "      <td>3.517346e+00</td>\n",
       "      <td>3.161220e+01</td>\n",
       "      <td>3.384781e+01</td>\n",
       "      <td>25691.160000</td>\n",
       "      <td>1.000000</td>\n",
       "    </tr>\n",
       "  </tbody>\n",
       "</table>\n",
       "<p>8 rows × 31 columns</p>\n",
       "</div>"
      ],
      "text/plain": [
       "                Time            V1            V2            V3            V4  \\\n",
       "count  284807.000000  2.848070e+05  2.848070e+05  2.848070e+05  2.848070e+05   \n",
       "mean    94813.859575  1.168375e-15  3.416908e-16 -1.379537e-15  2.074095e-15   \n",
       "std     47488.145955  1.958696e+00  1.651309e+00  1.516255e+00  1.415869e+00   \n",
       "min         0.000000 -5.640751e+01 -7.271573e+01 -4.832559e+01 -5.683171e+00   \n",
       "25%     54201.500000 -9.203734e-01 -5.985499e-01 -8.903648e-01 -8.486401e-01   \n",
       "50%     84692.000000  1.810880e-02  6.548556e-02  1.798463e-01 -1.984653e-02   \n",
       "75%    139320.500000  1.315642e+00  8.037239e-01  1.027196e+00  7.433413e-01   \n",
       "max    172792.000000  2.454930e+00  2.205773e+01  9.382558e+00  1.687534e+01   \n",
       "\n",
       "                 V5            V6            V7            V8            V9  \\\n",
       "count  2.848070e+05  2.848070e+05  2.848070e+05  2.848070e+05  2.848070e+05   \n",
       "mean   9.604066e-16  1.487313e-15 -5.556467e-16  1.213481e-16 -2.406331e-15   \n",
       "std    1.380247e+00  1.332271e+00  1.237094e+00  1.194353e+00  1.098632e+00   \n",
       "min   -1.137433e+02 -2.616051e+01 -4.355724e+01 -7.321672e+01 -1.343407e+01   \n",
       "25%   -6.915971e-01 -7.682956e-01 -5.540759e-01 -2.086297e-01 -6.430976e-01   \n",
       "50%   -5.433583e-02 -2.741871e-01  4.010308e-02  2.235804e-02 -5.142873e-02   \n",
       "75%    6.119264e-01  3.985649e-01  5.704361e-01  3.273459e-01  5.971390e-01   \n",
       "max    3.480167e+01  7.330163e+01  1.205895e+02  2.000721e+01  1.559499e+01   \n",
       "\n",
       "       ...           V21           V22           V23           V24  \\\n",
       "count  ...  2.848070e+05  2.848070e+05  2.848070e+05  2.848070e+05   \n",
       "mean   ...  1.654067e-16 -3.568593e-16  2.578648e-16  4.473266e-15   \n",
       "std    ...  7.345240e-01  7.257016e-01  6.244603e-01  6.056471e-01   \n",
       "min    ... -3.483038e+01 -1.093314e+01 -4.480774e+01 -2.836627e+00   \n",
       "25%    ... -2.283949e-01 -5.423504e-01 -1.618463e-01 -3.545861e-01   \n",
       "50%    ... -2.945017e-02  6.781943e-03 -1.119293e-02  4.097606e-02   \n",
       "75%    ...  1.863772e-01  5.285536e-01  1.476421e-01  4.395266e-01   \n",
       "max    ...  2.720284e+01  1.050309e+01  2.252841e+01  4.584549e+00   \n",
       "\n",
       "                V25           V26           V27           V28         Amount  \\\n",
       "count  2.848070e+05  2.848070e+05  2.848070e+05  2.848070e+05  284807.000000   \n",
       "mean   5.340915e-16  1.683437e-15 -3.660091e-16 -1.227390e-16      88.349619   \n",
       "std    5.212781e-01  4.822270e-01  4.036325e-01  3.300833e-01     250.120109   \n",
       "min   -1.029540e+01 -2.604551e+00 -2.256568e+01 -1.543008e+01       0.000000   \n",
       "25%   -3.171451e-01 -3.269839e-01 -7.083953e-02 -5.295979e-02       5.600000   \n",
       "50%    1.659350e-02 -5.213911e-02  1.342146e-03  1.124383e-02      22.000000   \n",
       "75%    3.507156e-01  2.409522e-01  9.104512e-02  7.827995e-02      77.165000   \n",
       "max    7.519589e+00  3.517346e+00  3.161220e+01  3.384781e+01   25691.160000   \n",
       "\n",
       "               Class  \n",
       "count  284807.000000  \n",
       "mean        0.001727  \n",
       "std         0.041527  \n",
       "min         0.000000  \n",
       "25%         0.000000  \n",
       "50%         0.000000  \n",
       "75%         0.000000  \n",
       "max         1.000000  \n",
       "\n",
       "[8 rows x 31 columns]"
      ]
     },
     "execution_count": 5,
     "metadata": {},
     "output_type": "execute_result"
    }
   ],
   "source": [
    "df_transacoes.describe()"
   ]
  },
  {
   "cell_type": "markdown",
   "id": "ce109eda",
   "metadata": {},
   "source": [
    "#### Verificando valores nulos no Data Frame"
   ]
  },
  {
   "cell_type": "code",
   "execution_count": 6,
   "id": "3bce92a6",
   "metadata": {},
   "outputs": [
    {
     "data": {
      "text/plain": [
       "Time      0\n",
       "V1        0\n",
       "V2        0\n",
       "V3        0\n",
       "V4        0\n",
       "V5        0\n",
       "V6        0\n",
       "V7        0\n",
       "V8        0\n",
       "V9        0\n",
       "V10       0\n",
       "V11       0\n",
       "V12       0\n",
       "V13       0\n",
       "V14       0\n",
       "V15       0\n",
       "V16       0\n",
       "V17       0\n",
       "V18       0\n",
       "V19       0\n",
       "V20       0\n",
       "V21       0\n",
       "V22       0\n",
       "V23       0\n",
       "V24       0\n",
       "V25       0\n",
       "V26       0\n",
       "V27       0\n",
       "V28       0\n",
       "Amount    0\n",
       "Class     0\n",
       "dtype: int64"
      ]
     },
     "execution_count": 6,
     "metadata": {},
     "output_type": "execute_result"
    }
   ],
   "source": [
    "df_transacoes.isnull().sum()"
   ]
  },
  {
   "cell_type": "markdown",
   "id": "42362150",
   "metadata": {},
   "source": [
    "#### Verificando distribuição da variável 'Class' no Data Frame percentualmente"
   ]
  },
  {
   "cell_type": "code",
   "execution_count": 11,
   "id": "4756ab65",
   "metadata": {},
   "outputs": [
    {
     "data": {
      "image/png": "[encoded data removed]",
      "text/plain": [
       "<Figure size 640x480 with 1 Axes>"
      ]
     },
     "metadata": {},
     "output_type": "display_data"
    }
   ],
   "source": [
    "df_transacoes['Class'].value_counts().plot.pie(autopct='%.2f');"
   ]
  },
  {
   "cell_type": "markdown",
   "id": "0a5dfc63",
   "metadata": {},
   "source": [
    "#### Antes da separação da base de dados em treino e teste irei alterar as colunas \"Time\" e \"Amount\" para que elas possuam apenas valores entre 0 e 1 <a class=\"anchor\" id=\"tratamento\"></a>"
   ]
  },
  {
   "cell_type": "code",
   "execution_count": 3,
   "id": "751aeef4",
   "metadata": {},
   "outputs": [],
   "source": [
    "# Coluna Time\n",
    "df_transacoes.Time = df_transacoes.Time / df_transacoes.Time.max()"
   ]
  },
  {
   "cell_type": "code",
   "execution_count": 4,
   "id": "e32241cc",
   "metadata": {},
   "outputs": [],
   "source": [
    "# Coluna Amount\n",
    "df_transacoes.Amount = df_transacoes.Amount / df_transacoes.Amount.max()"
   ]
  },
  {
   "cell_type": "code",
   "execution_count": 6,
   "id": "d6fa1880",
   "metadata": {},
   "outputs": [
    {
     "data": {
      "text/html": [
       "<div>\n",
       "<style scoped>\n",
       "    .dataframe tbody tr th:only-of-type {\n",
       "        vertical-align: middle;\n",
       "    }\n",
       "\n",
       "    .dataframe tbody tr th {\n",
       "        vertical-align: top;\n",
       "    }\n",
       "\n",
       "    .dataframe thead th {\n",
       "        text-align: right;\n",
       "    }\n",
       "</style>\n",
       "<table border=\"1\" class=\"dataframe\">\n",
       "  <thead>\n",
       "    <tr style=\"text-align: right;\">\n",
       "      <th></th>\n",
       "      <th>Time</th>\n",
       "      <th>Amount</th>\n",
       "    </tr>\n",
       "  </thead>\n",
       "  <tbody>\n",
       "    <tr>\n",
       "      <th>count</th>\n",
       "      <td>284807.000000</td>\n",
       "      <td>284807.000000</td>\n",
       "    </tr>\n",
       "    <tr>\n",
       "      <th>mean</th>\n",
       "      <td>0.548717</td>\n",
       "      <td>0.003439</td>\n",
       "    </tr>\n",
       "    <tr>\n",
       "      <th>std</th>\n",
       "      <td>0.274828</td>\n",
       "      <td>0.009736</td>\n",
       "    </tr>\n",
       "    <tr>\n",
       "      <th>min</th>\n",
       "      <td>0.000000</td>\n",
       "      <td>0.000000</td>\n",
       "    </tr>\n",
       "    <tr>\n",
       "      <th>25%</th>\n",
       "      <td>0.313681</td>\n",
       "      <td>0.000218</td>\n",
       "    </tr>\n",
       "    <tr>\n",
       "      <th>50%</th>\n",
       "      <td>0.490138</td>\n",
       "      <td>0.000856</td>\n",
       "    </tr>\n",
       "    <tr>\n",
       "      <th>75%</th>\n",
       "      <td>0.806290</td>\n",
       "      <td>0.003004</td>\n",
       "    </tr>\n",
       "    <tr>\n",
       "      <th>max</th>\n",
       "      <td>1.000000</td>\n",
       "      <td>1.000000</td>\n",
       "    </tr>\n",
       "  </tbody>\n",
       "</table>\n",
       "</div>"
      ],
      "text/plain": [
       "                Time         Amount\n",
       "count  284807.000000  284807.000000\n",
       "mean        0.548717       0.003439\n",
       "std         0.274828       0.009736\n",
       "min         0.000000       0.000000\n",
       "25%         0.313681       0.000218\n",
       "50%         0.490138       0.000856\n",
       "75%         0.806290       0.003004\n",
       "max         1.000000       1.000000"
      ]
     },
     "execution_count": 6,
     "metadata": {},
     "output_type": "execute_result"
    }
   ],
   "source": [
    "# Verificando a alteração, é possível notar que o valor mínimo está aparecendo como 0 e o máximo como 1 para ambas as colunas\n",
    "df_transacoes[['Time', 'Amount']].describe()"
   ]
  },
  {
   "cell_type": "markdown",
   "id": "f42ecc37",
   "metadata": {},
   "source": [
    "#### Separando a base de dados para teste e treino <a class=\"anchor\" id=\"dividir\"></a>"
   ]
  },
  {
   "cell_type": "code",
   "execution_count": 5,
   "id": "3edcf2f0",
   "metadata": {},
   "outputs": [],
   "source": [
    "X = df_transacoes.drop('Class',axis=1)\n",
    "y = df_transacoes.Class"
   ]
  },
  {
   "cell_type": "code",
   "execution_count": 6,
   "id": "0037e9c6",
   "metadata": {},
   "outputs": [],
   "source": [
    "X_train, X_test, y_train, y_test = train_test_split(X, y, test_size=0.33, random_state=42,stratify=y)"
   ]
  },
  {
   "cell_type": "markdown",
   "id": "152ccb81",
   "metadata": {},
   "source": [
    "## Criando modelo de Machine Learning <a class=\"anchor\" id=\"ml\"></a>"
   ]
  },
  {
   "cell_type": "markdown",
   "id": "d82a5e58",
   "metadata": {},
   "source": [
    "#### Irei criar um modelo inicial com a base de dados sem alterações como comparativo para os próximos modelos.\n",
    "#### O modelo escolhido sera o DecisionTreeClassifier <a class=\"anchor\" id=\"first\"></a>"
   ]
  },
  {
   "cell_type": "code",
   "execution_count": 9,
   "id": "a42fb706",
   "metadata": {},
   "outputs": [],
   "source": [
    "clf = tree.DecisionTreeClassifier(random_state=42)\n",
    "clf = clf.fit(X_train, y_train)"
   ]
  },
  {
   "cell_type": "code",
   "execution_count": 10,
   "id": "0df9f9e4",
   "metadata": {},
   "outputs": [],
   "source": [
    "y_pred = clf.predict(X_test)"
   ]
  },
  {
   "cell_type": "code",
   "execution_count": 11,
   "id": "e0f14b4a",
   "metadata": {},
   "outputs": [
    {
     "data": {
      "text/plain": [
       "0.9991594582229457"
      ]
     },
     "execution_count": 11,
     "metadata": {},
     "output_type": "execute_result"
    }
   ],
   "source": [
    "# Acurácia\n",
    "accuracy_score(y_test,y_pred)"
   ]
  },
  {
   "cell_type": "code",
   "execution_count": 12,
   "id": "8760b37f",
   "metadata": {},
   "outputs": [
    {
     "data": {
      "text/plain": [
       "array([[93786,    39],\n",
       "       [   40,   122]], dtype=int64)"
      ]
     },
     "execution_count": 12,
     "metadata": {},
     "output_type": "execute_result"
    }
   ],
   "source": [
    "# Matriz de confusão\n",
    "confusion_matrix(y_test,y_pred)"
   ]
  },
  {
   "cell_type": "code",
   "execution_count": 13,
   "id": "233100bb",
   "metadata": {},
   "outputs": [
    {
     "data": {
      "text/plain": [
       "0.7577639751552795"
      ]
     },
     "execution_count": 13,
     "metadata": {},
     "output_type": "execute_result"
    }
   ],
   "source": [
    "# Precisão\n",
    "precision_score(y_test,y_pred)"
   ]
  },
  {
   "cell_type": "code",
   "execution_count": 14,
   "id": "d3480dae",
   "metadata": {},
   "outputs": [
    {
     "data": {
      "text/plain": [
       "0.7530864197530864"
      ]
     },
     "execution_count": 14,
     "metadata": {},
     "output_type": "execute_result"
    }
   ],
   "source": [
    "# Recall\n",
    "recall_score(y_test,y_pred)"
   ]
  },
  {
   "cell_type": "markdown",
   "id": "0cecb21b",
   "metadata": {},
   "source": [
    "#### Com a base de dados sem alterações, foi possível obter uma boa acurácia, porém é possível observar que um alto valor de transações consideradas fraude (40), foi considerada como não fraude pelo modelo, como o objetivo é prever da melhor forma possível as transações fraude, devemos realizar alterações nos dados de forma a criar um modelo com uma melhor precisão\n",
    "#### Para balancear a base de dados, que atualmente contém a grande maioria de transações que não são fraudes, iremos utilizar o pacote imbalanced-learn, que irá fazer com que o número de fráudes seja equivalente ao número de transações que não são fraudes.\n",
    "#### Irei abordar alguns dos tipos de balanceamento que o pacote disponibiliza (oversampling e undersampling) e irei selecionar o que melhor se adequa ao meu modelo."
   ]
  },
  {
   "cell_type": "markdown",
   "id": "08670bc4",
   "metadata": {},
   "source": [
    "#### Primeiro caso: Undersampling com RandomUnderSampler <a class=\"anchor\" id=\"under\"></a>\n",
    "\n",
    "Neste modelo, pude melhorar muito o recall, o modelo melhorou em classificar os registros como fraude, porém ao mesmo tempo ele passou a errar mais ao classificar as transações que não eram fraude como fraude."
   ]
  },
  {
   "cell_type": "code",
   "execution_count": 6,
   "id": "1a7999d3",
   "metadata": {},
   "outputs": [],
   "source": [
    "rus = RandomUnderSampler(random_state=42)\n",
    "\n",
    "X_res, y_res = rus.fit_resample(X_train, y_train)"
   ]
  },
  {
   "cell_type": "code",
   "execution_count": 7,
   "id": "b67fdcab",
   "metadata": {},
   "outputs": [
    {
     "data": {
      "text/plain": [
       "Class\n",
       "0    330\n",
       "1    330\n",
       "Name: count, dtype: int64"
      ]
     },
     "execution_count": 7,
     "metadata": {},
     "output_type": "execute_result"
    }
   ],
   "source": [
    "# Verificando valores após o undersampling\n",
    "y_res.value_counts()"
   ]
  },
  {
   "cell_type": "code",
   "execution_count": 8,
   "id": "f05aa8f7",
   "metadata": {},
   "outputs": [],
   "source": [
    "# Criando o modelo para RandomUnderSampler\n",
    "clfRU = tree.DecisionTreeClassifier(random_state=42)\n",
    "clfRU = clfRU.fit(X_res, y_res)"
   ]
  },
  {
   "cell_type": "code",
   "execution_count": 11,
   "id": "fd6ca56e",
   "metadata": {},
   "outputs": [],
   "source": [
    "# Fazendo a previsão para os dados de teste\n",
    "y_predRU = clfRU.predict(X_test)"
   ]
  },
  {
   "cell_type": "code",
   "execution_count": 12,
   "id": "0b238e92",
   "metadata": {},
   "outputs": [
    {
     "data": {
      "text/plain": [
       "0.9004543181503825"
      ]
     },
     "execution_count": 12,
     "metadata": {},
     "output_type": "execute_result"
    }
   ],
   "source": [
    "# Calculando a acurácia\n",
    "accuracy_score(y_test,y_predRU)"
   ]
  },
  {
   "cell_type": "code",
   "execution_count": 13,
   "id": "f9096c91",
   "metadata": {},
   "outputs": [
    {
     "data": {
      "text/plain": [
       "array([[84484,  9341],\n",
       "       [   15,   147]], dtype=int64)"
      ]
     },
     "execution_count": 13,
     "metadata": {},
     "output_type": "execute_result"
    }
   ],
   "source": [
    "# Visualizando a matriz de confusão\n",
    "confusion_matrix(y_test,y_predRU)"
   ]
  },
  {
   "cell_type": "code",
   "execution_count": 23,
   "id": "ecabeeb8",
   "metadata": {},
   "outputs": [
    {
     "data": {
      "text/plain": [
       "0.015493254637436763"
      ]
     },
     "execution_count": 23,
     "metadata": {},
     "output_type": "execute_result"
    }
   ],
   "source": [
    "# Visualizando a precisão\n",
    "precision_score(y_test,y_predRU)"
   ]
  },
  {
   "cell_type": "code",
   "execution_count": 22,
   "id": "5b28eb0b",
   "metadata": {},
   "outputs": [
    {
     "data": {
      "text/plain": [
       "0.9074074074074074"
      ]
     },
     "execution_count": 22,
     "metadata": {},
     "output_type": "execute_result"
    }
   ],
   "source": [
    "# Visualizando o recall\n",
    "recall_score(y_test,y_predRU)"
   ]
  },
  {
   "cell_type": "markdown",
   "id": "c260a1d2",
   "metadata": {},
   "source": [
    "#### Segundo caso: Oversampling com RandomOverSampler <a class=\"anchor\" id=\"over\"></a>\n",
    "\n",
    "Utilizando o parametro shrinkage para não utilizar os valores repetidos (os dados variam em pouco valor para não se manterem os mesmos) este modelo melhorou um pouco em classificar as transações não fraude em relação ao modelo Undersampling, porém obteve desempenho inferior em prever transações consideradas fraude, desta forma o modelo não atende ao objetivo de ter o mínimo de erro em transações consideradas fraude"
   ]
  },
  {
   "cell_type": "code",
   "execution_count": 33,
   "id": "901c9840",
   "metadata": {},
   "outputs": [],
   "source": [
    "ros = RandomOverSampler(random_state=42, shrinkage=0.5)\n",
    "X_res, y_res = ros.fit_resample(X_train, y_train)"
   ]
  },
  {
   "cell_type": "code",
   "execution_count": 26,
   "id": "80b24c5c",
   "metadata": {},
   "outputs": [
    {
     "data": {
      "text/plain": [
       "Class\n",
       "0    190490\n",
       "1    190490\n",
       "Name: count, dtype: int64"
      ]
     },
     "execution_count": 26,
     "metadata": {},
     "output_type": "execute_result"
    }
   ],
   "source": [
    "# Verificando valores após o oversampling\n",
    "y_res.value_counts()"
   ]
  },
  {
   "cell_type": "code",
   "execution_count": 35,
   "id": "02176754",
   "metadata": {},
   "outputs": [],
   "source": [
    "# Criando o modelo para RandomOverSampler\n",
    "clfRO = tree.DecisionTreeClassifier(random_state=42)\n",
    "clfRO = clfRO.fit(X_res, y_res)"
   ]
  },
  {
   "cell_type": "code",
   "execution_count": 36,
   "id": "246af6c4",
   "metadata": {},
   "outputs": [],
   "source": [
    "# Fazendo a previsão para os dados de teste\n",
    "y_predRO = clfRO.predict(X_test)"
   ]
  },
  {
   "cell_type": "code",
   "execution_count": 37,
   "id": "35102cdc",
   "metadata": {},
   "outputs": [
    {
     "data": {
      "text/plain": [
       "0.9921159309266175"
      ]
     },
     "execution_count": 37,
     "metadata": {},
     "output_type": "execute_result"
    }
   ],
   "source": [
    "# Calculando a acurácia\n",
    "accuracy_score(y_test,y_predRO)"
   ]
  },
  {
   "cell_type": "code",
   "execution_count": 38,
   "id": "cd3a955f",
   "metadata": {},
   "outputs": [
    {
     "data": {
      "text/plain": [
       "array([[93109,   716],\n",
       "       [   25,   137]], dtype=int64)"
      ]
     },
     "execution_count": 38,
     "metadata": {},
     "output_type": "execute_result"
    }
   ],
   "source": [
    "# Visualizando a matriz de confusão\n",
    "confusion_matrix(y_test,y_predRO)"
   ]
  },
  {
   "cell_type": "code",
   "execution_count": 39,
   "id": "0b2ff389",
   "metadata": {},
   "outputs": [
    {
     "data": {
      "text/plain": [
       "0.16060961313012895"
      ]
     },
     "execution_count": 39,
     "metadata": {},
     "output_type": "execute_result"
    }
   ],
   "source": [
    "# Visualizando a precisão\n",
    "precision_score(y_test,y_predRO)"
   ]
  },
  {
   "cell_type": "code",
   "execution_count": 40,
   "id": "f0bca615",
   "metadata": {},
   "outputs": [
    {
     "data": {
      "text/plain": [
       "0.845679012345679"
      ]
     },
     "execution_count": 40,
     "metadata": {},
     "output_type": "execute_result"
    }
   ],
   "source": [
    "# Visualizando o recall\n",
    "recall_score(y_test,y_predRO)"
   ]
  },
  {
   "cell_type": "markdown",
   "id": "0fdf19f7",
   "metadata": {},
   "source": [
    "#### Terceiro caso: Undersampling com ClusterCentroids <a class=\"anchor\" id=\"cc\"></a>\n",
    "\n",
    "Utilizando o ClusterCentroids, foi possível acertar mais transações consideradas fraude, porém, ao mesmo tempo, o número de transações não fraude sendo consideradas como fraude está quase 3 vezes maior, foi possível adquirir uma boa precisão na identificação da fraude, porém o modelo se tornou mais \"rigoroso\" classificando mais transações não fraude como fraude."
   ]
  },
  {
   "cell_type": "code",
   "execution_count": 5,
   "id": "816a7b00",
   "metadata": {},
   "outputs": [
    {
     "name": "stderr",
     "output_type": "stream",
     "text": [
      "C:\\Users\\Leo\\anaconda3\\Lib\\site-packages\\sklearn\\cluster\\_kmeans.py:1412: FutureWarning: The default value of `n_init` will change from 10 to 'auto' in 1.4. Set the value of `n_init` explicitly to suppress the warning\n",
      "  super()._check_params_vs_input(X, default_n_init=10)\n"
     ]
    }
   ],
   "source": [
    "cc = ClusterCentroids(random_state=42)\n",
    "X_res, y_res = cc.fit_resample(X_train, y_train)"
   ]
  },
  {
   "cell_type": "code",
   "execution_count": 6,
   "id": "f4f6959e",
   "metadata": {},
   "outputs": [],
   "source": [
    "clfCC = tree.DecisionTreeClassifier(random_state=42)\n",
    "clfCC = clfCC.fit(X_res, y_res)"
   ]
  },
  {
   "cell_type": "code",
   "execution_count": 7,
   "id": "97ab3241",
   "metadata": {},
   "outputs": [],
   "source": [
    "# Fazendo a previsão para os dados de teste\n",
    "y_predCC = clfCC.predict(X_test)"
   ]
  },
  {
   "cell_type": "code",
   "execution_count": 8,
   "id": "ad473d68",
   "metadata": {},
   "outputs": [
    {
     "data": {
      "text/plain": [
       "array([[23192, 70633],\n",
       "       [    3,   159]], dtype=int64)"
      ]
     },
     "execution_count": 8,
     "metadata": {},
     "output_type": "execute_result"
    }
   ],
   "source": [
    "# Visualizando a matriz de confusão\n",
    "confusion_matrix(y_test,y_predCC)"
   ]
  },
  {
   "cell_type": "markdown",
   "id": "c48882ed",
   "metadata": {},
   "source": [
    "#### Quarto caso: Undersampling com NearMiss <a class=\"anchor\" id=\"nm\"></a>\n",
    "\n",
    "Com o NearMiss, obtive um desempenho melhor na identificação de fraude porém para transações não fraude, houve praticamente 50% dos valores classificados equivocadamente como fraude."
   ]
  },
  {
   "cell_type": "code",
   "execution_count": 10,
   "id": "86d7ce41",
   "metadata": {},
   "outputs": [],
   "source": [
    "nm = NearMiss()\n",
    "X_res, y_res = nm.fit_resample(X_train, y_train)"
   ]
  },
  {
   "cell_type": "code",
   "execution_count": 11,
   "id": "1ffaac5f",
   "metadata": {},
   "outputs": [],
   "source": [
    "clfNM = tree.DecisionTreeClassifier(random_state=42)\n",
    "clfNM = clfNM.fit(X_res, y_res)"
   ]
  },
  {
   "cell_type": "code",
   "execution_count": 12,
   "id": "8a34ee0d",
   "metadata": {},
   "outputs": [],
   "source": [
    "# Fazendo a previsão para os dados de teste\n",
    "y_predNM = clfNM.predict(X_test)"
   ]
  },
  {
   "cell_type": "code",
   "execution_count": 13,
   "id": "280dd25f",
   "metadata": {},
   "outputs": [
    {
     "data": {
      "text/plain": [
       "array([[50758, 43067],\n",
       "       [    9,   153]], dtype=int64)"
      ]
     },
     "execution_count": 13,
     "metadata": {},
     "output_type": "execute_result"
    }
   ],
   "source": [
    "# Visualizando a matriz de confusão\n",
    "confusion_matrix(y_test,y_predNM)"
   ]
  },
  {
   "cell_type": "markdown",
   "id": "c6c4921f",
   "metadata": {},
   "source": [
    "#### Quinto caso: Oversampling com SMOTE <a class=\"anchor\" id=\"smote\"></a>\n",
    "\n",
    "Com SMOTE o modelo obteve um melhor desempenho na identificação de transações não fraude, porém um numero elevado de transações fraude foi classificado equivocadamente como não fraude."
   ]
  },
  {
   "cell_type": "code",
   "execution_count": 16,
   "id": "0158b509",
   "metadata": {},
   "outputs": [],
   "source": [
    "sm = SMOTE(random_state=42)\n",
    "X_res, y_res = sm.fit_resample(X_train, y_train)"
   ]
  },
  {
   "cell_type": "code",
   "execution_count": 17,
   "id": "02aa3b96",
   "metadata": {},
   "outputs": [],
   "source": [
    "clfS = tree.DecisionTreeClassifier(random_state=42)\n",
    "clfS = clfS.fit(X_res, y_res)"
   ]
  },
  {
   "cell_type": "code",
   "execution_count": 18,
   "id": "3db92221",
   "metadata": {},
   "outputs": [],
   "source": [
    "# Fazendo a previsão para os dados de teste\n",
    "y_predS = clfS.predict(X_test)"
   ]
  },
  {
   "cell_type": "code",
   "execution_count": 19,
   "id": "80132e97",
   "metadata": {},
   "outputs": [
    {
     "data": {
      "text/plain": [
       "array([[93650,   175],\n",
       "       [   42,   120]], dtype=int64)"
      ]
     },
     "execution_count": 19,
     "metadata": {},
     "output_type": "execute_result"
    }
   ],
   "source": [
    "# Visualizando a matriz de confusão\n",
    "confusion_matrix(y_test,y_predS)"
   ]
  },
  {
   "cell_type": "markdown",
   "id": "6c4a7a9c",
   "metadata": {},
   "source": [
    "#### Sexto caso: Oversampling com ADASYN <a class=\"anchor\" id=\"adasyn\"></a>\n",
    "\n",
    "Com ADASYN o modelo obteve um melhor desempenho na identificação de transações não fraude, porém um numero elevado de transações fraude foi classificado equivocadamente como não fraude. Obteve um desempenho um pouco superior ao SMOTE."
   ]
  },
  {
   "cell_type": "code",
   "execution_count": 20,
   "id": "1ced20f3",
   "metadata": {},
   "outputs": [],
   "source": [
    "ada = ADASYN(random_state=42)\n",
    "X_res, y_res = ada.fit_resample(X_train, y_train)"
   ]
  },
  {
   "cell_type": "code",
   "execution_count": 21,
   "id": "4fbd6163",
   "metadata": {},
   "outputs": [],
   "source": [
    "clfA = tree.DecisionTreeClassifier(random_state=42)\n",
    "clfA = clfA.fit(X_res, y_res)"
   ]
  },
  {
   "cell_type": "code",
   "execution_count": 22,
   "id": "86f19025",
   "metadata": {},
   "outputs": [],
   "source": [
    "# Fazendo a previsão para os dados de teste\n",
    "y_predA = clfA.predict(X_test)"
   ]
  },
  {
   "cell_type": "code",
   "execution_count": 23,
   "id": "72f1725b",
   "metadata": {},
   "outputs": [
    {
     "data": {
      "text/plain": [
       "array([[93662,   163],\n",
       "       [   38,   124]], dtype=int64)"
      ]
     },
     "execution_count": 23,
     "metadata": {},
     "output_type": "execute_result"
    }
   ],
   "source": [
    "# Visualizando a matriz de confusão\n",
    "confusion_matrix(y_test,y_predA)"
   ]
  },
  {
   "cell_type": "markdown",
   "id": "22ca2324",
   "metadata": {},
   "source": [
    "#### Sétimo caso: Combinando métodos com SMOTEENN  <a class=\"anchor\" id=\"comb\"></a>\n",
    "\n",
    "Combinando tecnicas de Oversampling e Undersampling obtivemos um desempenho bom para classificação de transações não fraude, porém para transações fraude, houve um número alto de erros na classificação."
   ]
  },
  {
   "cell_type": "code",
   "execution_count": 24,
   "id": "f81b882d",
   "metadata": {},
   "outputs": [],
   "source": [
    "sme = SMOTEENN(random_state=42)\n",
    "X_res, y_res = sme.fit_resample(X_train, y_train)"
   ]
  },
  {
   "cell_type": "code",
   "execution_count": 25,
   "id": "ea87cdb2",
   "metadata": {},
   "outputs": [
    {
     "data": {
      "text/plain": [
       "Class\n",
       "1    181952\n",
       "0    173770\n",
       "Name: count, dtype: int64"
      ]
     },
     "execution_count": 25,
     "metadata": {},
     "output_type": "execute_result"
    }
   ],
   "source": [
    "y_res.value_counts()"
   ]
  },
  {
   "cell_type": "code",
   "execution_count": 26,
   "id": "0014b894",
   "metadata": {},
   "outputs": [],
   "source": [
    "clfSE = tree.DecisionTreeClassifier(random_state=42)\n",
    "clfSE = clfSE.fit(X_res, y_res)"
   ]
  },
  {
   "cell_type": "code",
   "execution_count": 27,
   "id": "f174fc04",
   "metadata": {},
   "outputs": [],
   "source": [
    "# Fazendo a previsão para os dados de teste\n",
    "y_predSE = clfSE.predict(X_test)"
   ]
  },
  {
   "cell_type": "code",
   "execution_count": 28,
   "id": "5d2afe18",
   "metadata": {},
   "outputs": [
    {
     "data": {
      "text/plain": [
       "array([[93629,   196],\n",
       "       [   36,   126]], dtype=int64)"
      ]
     },
     "execution_count": 28,
     "metadata": {},
     "output_type": "execute_result"
    }
   ],
   "source": [
    "# Visualizando a matriz de confusão\n",
    "confusion_matrix(y_test,y_predSE)"
   ]
  },
  {
   "cell_type": "markdown",
   "id": "d3eb739e",
   "metadata": {},
   "source": [
    "#### Nesta etapa do projeto, irei criar outros tipos de modelos, para comparação, irei utilizar a técnica Undersampling com RandomUnderSampler <a class=\"anchor\" id=\"test\"></a>"
   ]
  },
  {
   "cell_type": "code",
   "execution_count": 7,
   "id": "fcc8e53c",
   "metadata": {},
   "outputs": [],
   "source": [
    "# Realizando o Undersampling\n",
    "rus = RandomUnderSampler(random_state=42)\n",
    "X_resRU, y_resRU = rus.fit_resample(X_train, y_train)"
   ]
  },
  {
   "cell_type": "markdown",
   "id": "a1f03a00",
   "metadata": {},
   "source": [
    "#### Primeiro modelo: Árvore de decisão"
   ]
  },
  {
   "cell_type": "code",
   "execution_count": 16,
   "id": "082315f3",
   "metadata": {},
   "outputs": [],
   "source": [
    "# Fazendo o fit para os dados de treino já balanceados\n",
    "clf_AD = tree.DecisionTreeClassifier(random_state=42).fit(X_resRU, y_resRU)"
   ]
  },
  {
   "cell_type": "code",
   "execution_count": 17,
   "id": "5ed8eb51",
   "metadata": {},
   "outputs": [],
   "source": [
    "# Fazendo a previsão para os dados de teste\n",
    "y_pred_AD = clf_AD.predict(X_test)\n",
    "y_pred_proba_AD = clf_AD.predict_proba(X_test)[:,1]"
   ]
  },
  {
   "cell_type": "code",
   "execution_count": 18,
   "id": "5bf300ee",
   "metadata": {},
   "outputs": [
    {
     "data": {
      "text/plain": [
       "array([[84484,  9341],\n",
       "       [   15,   147]], dtype=int64)"
      ]
     },
     "execution_count": 18,
     "metadata": {},
     "output_type": "execute_result"
    }
   ],
   "source": [
    "# Visualizando a matriz de confusão\n",
    "confusion_matrix(y_test,y_pred_AD)"
   ]
  },
  {
   "cell_type": "markdown",
   "id": "dc16123a",
   "metadata": {},
   "source": [
    "#### Segundo modelo: Regressão Logistica"
   ]
  },
  {
   "cell_type": "code",
   "execution_count": 8,
   "id": "ca3d7397",
   "metadata": {},
   "outputs": [],
   "source": [
    "# Fazendo o fit para os dados de treino já balanceados\n",
    "clf_RL = LogisticRegression(random_state=0).fit(X_resRU, y_resRU)"
   ]
  },
  {
   "cell_type": "code",
   "execution_count": 20,
   "id": "64dbf77b",
   "metadata": {},
   "outputs": [],
   "source": [
    "# Fazendo a previsão\n",
    "y_pred_RL = clf_RL.predict(X_test)\n",
    "y_pred_proba_RL = clf_RL.predict_proba(X_test)[:,1]"
   ]
  },
  {
   "cell_type": "code",
   "execution_count": 21,
   "id": "04c96b2e",
   "metadata": {},
   "outputs": [
    {
     "data": {
      "text/plain": [
       "array([[89875,  3950],\n",
       "       [   15,   147]], dtype=int64)"
      ]
     },
     "execution_count": 21,
     "metadata": {},
     "output_type": "execute_result"
    }
   ],
   "source": [
    "# Visualizando a matriz de confusão\n",
    "confusion_matrix(y_test,y_pred_RL)"
   ]
  },
  {
   "cell_type": "markdown",
   "id": "62289d96",
   "metadata": {},
   "source": [
    "#### Terceiro modelo: Support Vector Machine"
   ]
  },
  {
   "cell_type": "code",
   "execution_count": 22,
   "id": "2a92882a",
   "metadata": {},
   "outputs": [],
   "source": [
    "# Fazendo o fit para os dados de treino já balanceados\n",
    "clf_SVC = SVC(random_state=0,probability=True).fit(X_resRU, y_resRU)"
   ]
  },
  {
   "cell_type": "code",
   "execution_count": 23,
   "id": "e042250b",
   "metadata": {},
   "outputs": [],
   "source": [
    "# Fazendo a previsão\n",
    "y_pred_SVC = clf_SVC.predict(X_test)\n",
    "y_pred_proba_SVC = clf_SVC.predict_proba(X_test)[:,1]"
   ]
  },
  {
   "cell_type": "code",
   "execution_count": 24,
   "id": "0a110926",
   "metadata": {},
   "outputs": [
    {
     "data": {
      "text/plain": [
       "array([[92433,  1392],\n",
       "       [   24,   138]], dtype=int64)"
      ]
     },
     "execution_count": 24,
     "metadata": {},
     "output_type": "execute_result"
    }
   ],
   "source": [
    "# Visualizando a matriz de confusão\n",
    "confusion_matrix(y_test,y_pred_SVC)"
   ]
  },
  {
   "cell_type": "markdown",
   "id": "b4343f6f",
   "metadata": {},
   "source": [
    "#### Quarto modelo: KNN"
   ]
  },
  {
   "cell_type": "code",
   "execution_count": 25,
   "id": "582a5eeb",
   "metadata": {},
   "outputs": [],
   "source": [
    "# Fazendo o fit para os dados de treino já balanceados\n",
    "clf_KNN = KNeighborsClassifier(n_neighbors=3).fit(X_resRU, y_resRU)"
   ]
  },
  {
   "cell_type": "code",
   "execution_count": 29,
   "id": "06a27102",
   "metadata": {},
   "outputs": [
    {
     "name": "stderr",
     "output_type": "stream",
     "text": [
      "C:\\Users\\Leo\\anaconda3\\Lib\\site-packages\\sklearn\\base.py:464: UserWarning: X does not have valid feature names, but KNeighborsClassifier was fitted with feature names\n",
      "  warnings.warn(\n",
      "C:\\Users\\Leo\\anaconda3\\Lib\\site-packages\\sklearn\\base.py:464: UserWarning: X does not have valid feature names, but KNeighborsClassifier was fitted with feature names\n",
      "  warnings.warn(\n"
     ]
    }
   ],
   "source": [
    "# Fazendo a previsão\n",
    "y_pred_KNN = clf_KNN.predict(X_test.values)\n",
    "y_pred_proba_KNN = clf_KNN.predict_proba(X_test.values)[:,1]"
   ]
  },
  {
   "cell_type": "code",
   "execution_count": 30,
   "id": "747d6f2a",
   "metadata": {},
   "outputs": [
    {
     "data": {
      "text/plain": [
       "array([[91136,  2689],\n",
       "       [   15,   147]], dtype=int64)"
      ]
     },
     "execution_count": 30,
     "metadata": {},
     "output_type": "execute_result"
    }
   ],
   "source": [
    "# Visualizando a matriz de confusão\n",
    "confusion_matrix(y_test,y_pred_KNN)  "
   ]
  },
  {
   "cell_type": "markdown",
   "id": "714d7ef5",
   "metadata": {},
   "source": [
    "#### Quinto modelo: Random Forest"
   ]
  },
  {
   "cell_type": "code",
   "execution_count": 31,
   "id": "0223c80a",
   "metadata": {},
   "outputs": [],
   "source": [
    "# Fazendo o fit para os dados de treino já balanceados\n",
    "clf_RF = RandomForestClassifier(max_depth=2, random_state=0).fit(X_resRU, y_resRU)"
   ]
  },
  {
   "cell_type": "code",
   "execution_count": 32,
   "id": "4559a17e",
   "metadata": {},
   "outputs": [],
   "source": [
    "# Fazendo a previsão\n",
    "y_pred_RF = clf_RF.predict(X_test)\n",
    "y_pred_proba_RF = clf_RF.predict_proba(X_test)[:,1]"
   ]
  },
  {
   "cell_type": "code",
   "execution_count": 33,
   "id": "07692122",
   "metadata": {},
   "outputs": [
    {
     "data": {
      "text/plain": [
       "array([[93168,   657],\n",
       "       [   25,   137]], dtype=int64)"
      ]
     },
     "execution_count": 33,
     "metadata": {},
     "output_type": "execute_result"
    }
   ],
   "source": [
    "# Visualizando a matriz de confusão\n",
    "confusion_matrix(y_test,y_pred_RF)"
   ]
  },
  {
   "cell_type": "markdown",
   "id": "6226b608",
   "metadata": {},
   "source": [
    "#### Analisando o desempenho destes 5 modelos irei selecionar 3 que considero que tiveram um desempenho melhor e irei buscar formas de melhora-los\n",
    "\n",
    "Os modelos selecionados serão:\n",
    "- Regressão Logística\n",
    "- KNN\n",
    "- Random Forest\n",
    "\n",
    "A Regressão Logística e o KNN, obtiveram o mesmo resultado na previsão de transações fraude, que foi o menor número encontrado entre os modelos, ao mesmo tempo que mantiveram o erro na previsão de transações não fraude em um valor menor, comparado a Árvore de Decisão.\n",
    "\n",
    "O Random Forest foi o modelo que obteve um baixo número de erro na previsão de transações não fraude e manteve um número baixo de erros para transações fraude, tendo apenas 10 a mais em relação aos modelos que erraram menos."
   ]
  },
  {
   "cell_type": "markdown",
   "id": "d4ae8c7b",
   "metadata": {},
   "source": [
    "## Utilizando GridSearchCV para testar parâmetros dos modelos de machine learning <a class=\"anchor\" id=\"gridsearchcv\"></a>"
   ]
  },
  {
   "cell_type": "markdown",
   "id": "9a72cf13",
   "metadata": {},
   "source": [
    "#### Melhorando parâmetros da Regressão Logística com GridSearchCV <a class=\"anchor\" id=\"rl\"></a>"
   ]
  },
  {
   "cell_type": "markdown",
   "id": "ac7d9963",
   "metadata": {},
   "source": [
    "#### Parâmetros da Regressão Logística que irei testar \n",
    "\n",
    "GridSearchCV criado com foco no melhor desempenho do \"Recall\", buscando o mínimo erro para transações fraude"
   ]
  },
  {
   "cell_type": "code",
   "execution_count": 35,
   "id": "2ee7e271",
   "metadata": {},
   "outputs": [],
   "source": [
    "parametros = {\n",
    "    'C': [0.001,0.01,0.1,1,10,100,1000],\n",
    "    'solver': ['newton-cg','lbfgs','liblinear','sag','saga'],\n",
    "}"
   ]
  },
  {
   "cell_type": "code",
   "execution_count": 43,
   "id": "880c0351",
   "metadata": {},
   "outputs": [],
   "source": [
    "# Criando uma Regressão Logística\n",
    "LogReg = LogisticRegression(random_state=42, max_iter=10000)"
   ]
  },
  {
   "cell_type": "code",
   "execution_count": 47,
   "id": "08678633",
   "metadata": {},
   "outputs": [],
   "source": [
    "# Criando um novo classificador com os parâmetros escolhidos\n",
    "clf_RL_GS = GridSearchCV(LogReg, parametros, scoring='recall' )"
   ]
  },
  {
   "cell_type": "code",
   "execution_count": 48,
   "id": "d879eb6e",
   "metadata": {},
   "outputs": [],
   "source": [
    "# Fazendo o fit dos nossos dados\n",
    "clf_RL_GS = clf_RL_GS.fit(X_resRU, y_resRU)"
   ]
  },
  {
   "cell_type": "code",
   "execution_count": 49,
   "id": "e99b8774",
   "metadata": {},
   "outputs": [
    {
     "data": {
      "text/plain": [
       "{'C': 0.001, 'solver': 'liblinear'}"
      ]
     },
     "execution_count": 49,
     "metadata": {},
     "output_type": "execute_result"
    }
   ],
   "source": [
    "# Visualizando os melhores parÂmetros definidos pelo GridSearchCV\n",
    "clf_RL_GS.best_params_"
   ]
  },
  {
   "cell_type": "code",
   "execution_count": 50,
   "id": "5a6a19f7",
   "metadata": {},
   "outputs": [],
   "source": [
    "# Usando o modelo para fazer as previsões\n",
    "y_pred_RL_GS = clf_RL_GS.predict(X_test)"
   ]
  },
  {
   "cell_type": "code",
   "execution_count": 51,
   "id": "b6f0776c",
   "metadata": {},
   "outputs": [
    {
     "data": {
      "text/plain": [
       "array([[81700, 12125],\n",
       "       [   10,   152]], dtype=int64)"
      ]
     },
     "execution_count": 51,
     "metadata": {},
     "output_type": "execute_result"
    }
   ],
   "source": [
    "# Analisando a matriz de confusão\n",
    "confusion_matrix(y_test, y_pred_RL_GS)"
   ]
  },
  {
   "cell_type": "code",
   "execution_count": 52,
   "id": "052acfd6",
   "metadata": {},
   "outputs": [
    {
     "data": {
      "text/plain": [
       "0.9382716049382716"
      ]
     },
     "execution_count": 52,
     "metadata": {},
     "output_type": "execute_result"
    }
   ],
   "source": [
    "# Recall\n",
    "recall_score(y_test, y_pred_RL_GS)"
   ]
  },
  {
   "cell_type": "code",
   "execution_count": 53,
   "id": "d993e7dc",
   "metadata": {},
   "outputs": [
    {
     "data": {
      "text/plain": [
       "0.012380874806548831"
      ]
     },
     "execution_count": 53,
     "metadata": {},
     "output_type": "execute_result"
    }
   ],
   "source": [
    "#precisao\n",
    "precision_score(y_test, y_pred_RL_GS)"
   ]
  },
  {
   "cell_type": "code",
   "execution_count": 55,
   "id": "daa68407",
   "metadata": {},
   "outputs": [
    {
     "data": {
      "text/html": [
       "<div>\n",
       "<style scoped>\n",
       "    .dataframe tbody tr th:only-of-type {\n",
       "        vertical-align: middle;\n",
       "    }\n",
       "\n",
       "    .dataframe tbody tr th {\n",
       "        vertical-align: top;\n",
       "    }\n",
       "\n",
       "    .dataframe thead th {\n",
       "        text-align: right;\n",
       "    }\n",
       "</style>\n",
       "<table border=\"1\" class=\"dataframe\">\n",
       "  <thead>\n",
       "    <tr style=\"text-align: right;\">\n",
       "      <th></th>\n",
       "      <th>mean_fit_time</th>\n",
       "      <th>std_fit_time</th>\n",
       "      <th>mean_score_time</th>\n",
       "      <th>std_score_time</th>\n",
       "      <th>param_C</th>\n",
       "      <th>param_solver</th>\n",
       "      <th>params</th>\n",
       "      <th>split0_test_score</th>\n",
       "      <th>split1_test_score</th>\n",
       "      <th>split2_test_score</th>\n",
       "      <th>split3_test_score</th>\n",
       "      <th>split4_test_score</th>\n",
       "      <th>mean_test_score</th>\n",
       "      <th>std_test_score</th>\n",
       "      <th>rank_test_score</th>\n",
       "    </tr>\n",
       "  </thead>\n",
       "  <tbody>\n",
       "    <tr>\n",
       "      <th>0</th>\n",
       "      <td>0.005801</td>\n",
       "      <td>4.000426e-04</td>\n",
       "      <td>0.002400</td>\n",
       "      <td>4.901740e-04</td>\n",
       "      <td>0.001</td>\n",
       "      <td>newton-cg</td>\n",
       "      <td>{'C': 0.001, 'solver': 'newton-cg'}</td>\n",
       "      <td>0.772727</td>\n",
       "      <td>0.818182</td>\n",
       "      <td>0.893939</td>\n",
       "      <td>0.833333</td>\n",
       "      <td>0.833333</td>\n",
       "      <td>0.830303</td>\n",
       "      <td>0.038807</td>\n",
       "      <td>32</td>\n",
       "    </tr>\n",
       "    <tr>\n",
       "      <th>1</th>\n",
       "      <td>0.004001</td>\n",
       "      <td>2.336015e-07</td>\n",
       "      <td>0.002201</td>\n",
       "      <td>3.999949e-04</td>\n",
       "      <td>0.001</td>\n",
       "      <td>lbfgs</td>\n",
       "      <td>{'C': 0.001, 'solver': 'lbfgs'}</td>\n",
       "      <td>0.772727</td>\n",
       "      <td>0.818182</td>\n",
       "      <td>0.893939</td>\n",
       "      <td>0.833333</td>\n",
       "      <td>0.833333</td>\n",
       "      <td>0.830303</td>\n",
       "      <td>0.038807</td>\n",
       "      <td>32</td>\n",
       "    </tr>\n",
       "    <tr>\n",
       "      <th>2</th>\n",
       "      <td>0.002601</td>\n",
       "      <td>4.899987e-04</td>\n",
       "      <td>0.002401</td>\n",
       "      <td>4.899404e-04</td>\n",
       "      <td>0.001</td>\n",
       "      <td>liblinear</td>\n",
       "      <td>{'C': 0.001, 'solver': 'liblinear'}</td>\n",
       "      <td>0.954545</td>\n",
       "      <td>1.000000</td>\n",
       "      <td>0.954545</td>\n",
       "      <td>0.954545</td>\n",
       "      <td>0.984848</td>\n",
       "      <td>0.969697</td>\n",
       "      <td>0.019165</td>\n",
       "      <td>1</td>\n",
       "    </tr>\n",
       "    <tr>\n",
       "      <th>3</th>\n",
       "      <td>0.018804</td>\n",
       "      <td>2.039914e-03</td>\n",
       "      <td>0.002600</td>\n",
       "      <td>4.903102e-04</td>\n",
       "      <td>0.001</td>\n",
       "      <td>sag</td>\n",
       "      <td>{'C': 0.001, 'solver': 'sag'}</td>\n",
       "      <td>0.772727</td>\n",
       "      <td>0.818182</td>\n",
       "      <td>0.893939</td>\n",
       "      <td>0.833333</td>\n",
       "      <td>0.833333</td>\n",
       "      <td>0.830303</td>\n",
       "      <td>0.038807</td>\n",
       "      <td>32</td>\n",
       "    </tr>\n",
       "    <tr>\n",
       "      <th>4</th>\n",
       "      <td>0.045810</td>\n",
       "      <td>4.119234e-03</td>\n",
       "      <td>0.002801</td>\n",
       "      <td>3.998520e-04</td>\n",
       "      <td>0.001</td>\n",
       "      <td>saga</td>\n",
       "      <td>{'C': 0.001, 'solver': 'saga'}</td>\n",
       "      <td>0.772727</td>\n",
       "      <td>0.818182</td>\n",
       "      <td>0.893939</td>\n",
       "      <td>0.833333</td>\n",
       "      <td>0.833333</td>\n",
       "      <td>0.830303</td>\n",
       "      <td>0.038807</td>\n",
       "      <td>32</td>\n",
       "    </tr>\n",
       "    <tr>\n",
       "      <th>5</th>\n",
       "      <td>0.007001</td>\n",
       "      <td>6.325605e-04</td>\n",
       "      <td>0.002401</td>\n",
       "      <td>4.899598e-04</td>\n",
       "      <td>0.01</td>\n",
       "      <td>newton-cg</td>\n",
       "      <td>{'C': 0.01, 'solver': 'newton-cg'}</td>\n",
       "      <td>0.833333</td>\n",
       "      <td>0.878788</td>\n",
       "      <td>0.939394</td>\n",
       "      <td>0.893939</td>\n",
       "      <td>0.924242</td>\n",
       "      <td>0.893939</td>\n",
       "      <td>0.037113</td>\n",
       "      <td>28</td>\n",
       "    </tr>\n",
       "    <tr>\n",
       "      <th>6</th>\n",
       "      <td>0.004201</td>\n",
       "      <td>4.001141e-04</td>\n",
       "      <td>0.002601</td>\n",
       "      <td>4.899793e-04</td>\n",
       "      <td>0.01</td>\n",
       "      <td>lbfgs</td>\n",
       "      <td>{'C': 0.01, 'solver': 'lbfgs'}</td>\n",
       "      <td>0.833333</td>\n",
       "      <td>0.878788</td>\n",
       "      <td>0.939394</td>\n",
       "      <td>0.893939</td>\n",
       "      <td>0.924242</td>\n",
       "      <td>0.893939</td>\n",
       "      <td>0.037113</td>\n",
       "      <td>28</td>\n",
       "    </tr>\n",
       "    <tr>\n",
       "      <th>7</th>\n",
       "      <td>0.003001</td>\n",
       "      <td>3.234067e-07</td>\n",
       "      <td>0.002801</td>\n",
       "      <td>4.001858e-04</td>\n",
       "      <td>0.01</td>\n",
       "      <td>liblinear</td>\n",
       "      <td>{'C': 0.01, 'solver': 'liblinear'}</td>\n",
       "      <td>0.924242</td>\n",
       "      <td>0.909091</td>\n",
       "      <td>0.954545</td>\n",
       "      <td>0.909091</td>\n",
       "      <td>0.939394</td>\n",
       "      <td>0.927273</td>\n",
       "      <td>0.017670</td>\n",
       "      <td>5</td>\n",
       "    </tr>\n",
       "    <tr>\n",
       "      <th>8</th>\n",
       "      <td>0.039409</td>\n",
       "      <td>3.263007e-03</td>\n",
       "      <td>0.002801</td>\n",
       "      <td>3.999714e-04</td>\n",
       "      <td>0.01</td>\n",
       "      <td>sag</td>\n",
       "      <td>{'C': 0.01, 'solver': 'sag'}</td>\n",
       "      <td>0.833333</td>\n",
       "      <td>0.878788</td>\n",
       "      <td>0.939394</td>\n",
       "      <td>0.893939</td>\n",
       "      <td>0.924242</td>\n",
       "      <td>0.893939</td>\n",
       "      <td>0.037113</td>\n",
       "      <td>28</td>\n",
       "    </tr>\n",
       "    <tr>\n",
       "      <th>9</th>\n",
       "      <td>0.077817</td>\n",
       "      <td>7.575342e-03</td>\n",
       "      <td>0.002601</td>\n",
       "      <td>4.900182e-04</td>\n",
       "      <td>0.01</td>\n",
       "      <td>saga</td>\n",
       "      <td>{'C': 0.01, 'solver': 'saga'}</td>\n",
       "      <td>0.833333</td>\n",
       "      <td>0.878788</td>\n",
       "      <td>0.939394</td>\n",
       "      <td>0.893939</td>\n",
       "      <td>0.924242</td>\n",
       "      <td>0.893939</td>\n",
       "      <td>0.037113</td>\n",
       "      <td>28</td>\n",
       "    </tr>\n",
       "    <tr>\n",
       "      <th>10</th>\n",
       "      <td>0.007802</td>\n",
       "      <td>4.002811e-04</td>\n",
       "      <td>0.002000</td>\n",
       "      <td>1.907349e-07</td>\n",
       "      <td>0.1</td>\n",
       "      <td>newton-cg</td>\n",
       "      <td>{'C': 0.1, 'solver': 'newton-cg'}</td>\n",
       "      <td>0.863636</td>\n",
       "      <td>0.893939</td>\n",
       "      <td>0.954545</td>\n",
       "      <td>0.909091</td>\n",
       "      <td>0.939394</td>\n",
       "      <td>0.912121</td>\n",
       "      <td>0.032355</td>\n",
       "      <td>24</td>\n",
       "    </tr>\n",
       "    <tr>\n",
       "      <th>11</th>\n",
       "      <td>0.004801</td>\n",
       "      <td>4.000425e-04</td>\n",
       "      <td>0.002401</td>\n",
       "      <td>4.901155e-04</td>\n",
       "      <td>0.1</td>\n",
       "      <td>lbfgs</td>\n",
       "      <td>{'C': 0.1, 'solver': 'lbfgs'}</td>\n",
       "      <td>0.863636</td>\n",
       "      <td>0.893939</td>\n",
       "      <td>0.954545</td>\n",
       "      <td>0.909091</td>\n",
       "      <td>0.939394</td>\n",
       "      <td>0.912121</td>\n",
       "      <td>0.032355</td>\n",
       "      <td>24</td>\n",
       "    </tr>\n",
       "    <tr>\n",
       "      <th>12</th>\n",
       "      <td>0.003001</td>\n",
       "      <td>2.861023e-07</td>\n",
       "      <td>0.002400</td>\n",
       "      <td>4.900961e-04</td>\n",
       "      <td>0.1</td>\n",
       "      <td>liblinear</td>\n",
       "      <td>{'C': 0.1, 'solver': 'liblinear'}</td>\n",
       "      <td>0.893939</td>\n",
       "      <td>0.893939</td>\n",
       "      <td>0.954545</td>\n",
       "      <td>0.909091</td>\n",
       "      <td>0.939394</td>\n",
       "      <td>0.918182</td>\n",
       "      <td>0.024618</td>\n",
       "      <td>22</td>\n",
       "    </tr>\n",
       "    <tr>\n",
       "      <th>13</th>\n",
       "      <td>0.125628</td>\n",
       "      <td>9.689608e-03</td>\n",
       "      <td>0.002801</td>\n",
       "      <td>4.002334e-04</td>\n",
       "      <td>0.1</td>\n",
       "      <td>sag</td>\n",
       "      <td>{'C': 0.1, 'solver': 'sag'}</td>\n",
       "      <td>0.863636</td>\n",
       "      <td>0.893939</td>\n",
       "      <td>0.954545</td>\n",
       "      <td>0.909091</td>\n",
       "      <td>0.939394</td>\n",
       "      <td>0.912121</td>\n",
       "      <td>0.032355</td>\n",
       "      <td>24</td>\n",
       "    </tr>\n",
       "    <tr>\n",
       "      <th>14</th>\n",
       "      <td>0.235453</td>\n",
       "      <td>2.110994e-02</td>\n",
       "      <td>0.003001</td>\n",
       "      <td>3.873843e-07</td>\n",
       "      <td>0.1</td>\n",
       "      <td>saga</td>\n",
       "      <td>{'C': 0.1, 'solver': 'saga'}</td>\n",
       "      <td>0.863636</td>\n",
       "      <td>0.893939</td>\n",
       "      <td>0.954545</td>\n",
       "      <td>0.909091</td>\n",
       "      <td>0.939394</td>\n",
       "      <td>0.912121</td>\n",
       "      <td>0.032355</td>\n",
       "      <td>24</td>\n",
       "    </tr>\n",
       "    <tr>\n",
       "      <th>15</th>\n",
       "      <td>0.009202</td>\n",
       "      <td>3.999949e-04</td>\n",
       "      <td>0.002401</td>\n",
       "      <td>4.899793e-04</td>\n",
       "      <td>1</td>\n",
       "      <td>newton-cg</td>\n",
       "      <td>{'C': 1, 'solver': 'newton-cg'}</td>\n",
       "      <td>0.909091</td>\n",
       "      <td>0.909091</td>\n",
       "      <td>0.954545</td>\n",
       "      <td>0.909091</td>\n",
       "      <td>0.954545</td>\n",
       "      <td>0.927273</td>\n",
       "      <td>0.022268</td>\n",
       "      <td>5</td>\n",
       "    </tr>\n",
       "    <tr>\n",
       "      <th>16</th>\n",
       "      <td>0.006801</td>\n",
       "      <td>7.487234e-04</td>\n",
       "      <td>0.002400</td>\n",
       "      <td>4.899015e-04</td>\n",
       "      <td>1</td>\n",
       "      <td>lbfgs</td>\n",
       "      <td>{'C': 1, 'solver': 'lbfgs'}</td>\n",
       "      <td>0.909091</td>\n",
       "      <td>0.909091</td>\n",
       "      <td>0.954545</td>\n",
       "      <td>0.909091</td>\n",
       "      <td>0.954545</td>\n",
       "      <td>0.927273</td>\n",
       "      <td>0.022268</td>\n",
       "      <td>5</td>\n",
       "    </tr>\n",
       "    <tr>\n",
       "      <th>17</th>\n",
       "      <td>0.003001</td>\n",
       "      <td>1.907349e-07</td>\n",
       "      <td>0.003001</td>\n",
       "      <td>1.507891e-07</td>\n",
       "      <td>1</td>\n",
       "      <td>liblinear</td>\n",
       "      <td>{'C': 1, 'solver': 'liblinear'}</td>\n",
       "      <td>0.909091</td>\n",
       "      <td>0.909091</td>\n",
       "      <td>0.954545</td>\n",
       "      <td>0.909091</td>\n",
       "      <td>0.939394</td>\n",
       "      <td>0.924242</td>\n",
       "      <td>0.019165</td>\n",
       "      <td>9</td>\n",
       "    </tr>\n",
       "    <tr>\n",
       "      <th>18</th>\n",
       "      <td>0.301492</td>\n",
       "      <td>7.217789e-02</td>\n",
       "      <td>0.003002</td>\n",
       "      <td>7.979012e-07</td>\n",
       "      <td>1</td>\n",
       "      <td>sag</td>\n",
       "      <td>{'C': 1, 'solver': 'sag'}</td>\n",
       "      <td>0.909091</td>\n",
       "      <td>0.909091</td>\n",
       "      <td>0.954545</td>\n",
       "      <td>0.909091</td>\n",
       "      <td>0.939394</td>\n",
       "      <td>0.924242</td>\n",
       "      <td>0.019165</td>\n",
       "      <td>9</td>\n",
       "    </tr>\n",
       "    <tr>\n",
       "      <th>19</th>\n",
       "      <td>0.342590</td>\n",
       "      <td>1.066866e-01</td>\n",
       "      <td>0.003001</td>\n",
       "      <td>7.478899e-07</td>\n",
       "      <td>1</td>\n",
       "      <td>saga</td>\n",
       "      <td>{'C': 1, 'solver': 'saga'}</td>\n",
       "      <td>0.909091</td>\n",
       "      <td>0.909091</td>\n",
       "      <td>0.954545</td>\n",
       "      <td>0.909091</td>\n",
       "      <td>0.939394</td>\n",
       "      <td>0.924242</td>\n",
       "      <td>0.019165</td>\n",
       "      <td>9</td>\n",
       "    </tr>\n",
       "    <tr>\n",
       "      <th>20</th>\n",
       "      <td>0.011003</td>\n",
       "      <td>3.693565e-07</td>\n",
       "      <td>0.002401</td>\n",
       "      <td>4.900182e-04</td>\n",
       "      <td>10</td>\n",
       "      <td>newton-cg</td>\n",
       "      <td>{'C': 10, 'solver': 'newton-cg'}</td>\n",
       "      <td>0.909091</td>\n",
       "      <td>0.893939</td>\n",
       "      <td>0.969697</td>\n",
       "      <td>0.909091</td>\n",
       "      <td>0.939394</td>\n",
       "      <td>0.924242</td>\n",
       "      <td>0.027104</td>\n",
       "      <td>9</td>\n",
       "    </tr>\n",
       "    <tr>\n",
       "      <th>21</th>\n",
       "      <td>0.009402</td>\n",
       "      <td>4.902909e-04</td>\n",
       "      <td>0.002401</td>\n",
       "      <td>4.899210e-04</td>\n",
       "      <td>10</td>\n",
       "      <td>lbfgs</td>\n",
       "      <td>{'C': 10, 'solver': 'lbfgs'}</td>\n",
       "      <td>0.909091</td>\n",
       "      <td>0.893939</td>\n",
       "      <td>0.969697</td>\n",
       "      <td>0.909091</td>\n",
       "      <td>0.939394</td>\n",
       "      <td>0.924242</td>\n",
       "      <td>0.027104</td>\n",
       "      <td>9</td>\n",
       "    </tr>\n",
       "    <tr>\n",
       "      <th>22</th>\n",
       "      <td>0.004001</td>\n",
       "      <td>1.168008e-07</td>\n",
       "      <td>0.002601</td>\n",
       "      <td>4.898625e-04</td>\n",
       "      <td>10</td>\n",
       "      <td>liblinear</td>\n",
       "      <td>{'C': 10, 'solver': 'liblinear'}</td>\n",
       "      <td>0.909091</td>\n",
       "      <td>0.893939</td>\n",
       "      <td>0.969697</td>\n",
       "      <td>0.909091</td>\n",
       "      <td>0.939394</td>\n",
       "      <td>0.924242</td>\n",
       "      <td>0.027104</td>\n",
       "      <td>9</td>\n",
       "    </tr>\n",
       "    <tr>\n",
       "      <th>23</th>\n",
       "      <td>0.329274</td>\n",
       "      <td>1.505534e-02</td>\n",
       "      <td>0.002801</td>\n",
       "      <td>4.001144e-04</td>\n",
       "      <td>10</td>\n",
       "      <td>sag</td>\n",
       "      <td>{'C': 10, 'solver': 'sag'}</td>\n",
       "      <td>0.909091</td>\n",
       "      <td>0.893939</td>\n",
       "      <td>0.969697</td>\n",
       "      <td>0.909091</td>\n",
       "      <td>0.954545</td>\n",
       "      <td>0.927273</td>\n",
       "      <td>0.029380</td>\n",
       "      <td>5</td>\n",
       "    </tr>\n",
       "    <tr>\n",
       "      <th>24</th>\n",
       "      <td>0.433424</td>\n",
       "      <td>4.859296e-02</td>\n",
       "      <td>0.003399</td>\n",
       "      <td>1.021920e-03</td>\n",
       "      <td>10</td>\n",
       "      <td>saga</td>\n",
       "      <td>{'C': 10, 'solver': 'saga'}</td>\n",
       "      <td>0.909091</td>\n",
       "      <td>0.909091</td>\n",
       "      <td>0.969697</td>\n",
       "      <td>0.909091</td>\n",
       "      <td>0.954545</td>\n",
       "      <td>0.930303</td>\n",
       "      <td>0.026418</td>\n",
       "      <td>2</td>\n",
       "    </tr>\n",
       "    <tr>\n",
       "      <th>25</th>\n",
       "      <td>0.013803</td>\n",
       "      <td>7.487999e-04</td>\n",
       "      <td>0.002600</td>\n",
       "      <td>4.895315e-04</td>\n",
       "      <td>100</td>\n",
       "      <td>newton-cg</td>\n",
       "      <td>{'C': 100, 'solver': 'newton-cg'}</td>\n",
       "      <td>0.893939</td>\n",
       "      <td>0.893939</td>\n",
       "      <td>0.969697</td>\n",
       "      <td>0.893939</td>\n",
       "      <td>0.939394</td>\n",
       "      <td>0.918182</td>\n",
       "      <td>0.031199</td>\n",
       "      <td>17</td>\n",
       "    </tr>\n",
       "    <tr>\n",
       "      <th>26</th>\n",
       "      <td>0.015603</td>\n",
       "      <td>1.743647e-03</td>\n",
       "      <td>0.003201</td>\n",
       "      <td>7.483921e-04</td>\n",
       "      <td>100</td>\n",
       "      <td>lbfgs</td>\n",
       "      <td>{'C': 100, 'solver': 'lbfgs'}</td>\n",
       "      <td>0.893939</td>\n",
       "      <td>0.893939</td>\n",
       "      <td>0.969697</td>\n",
       "      <td>0.893939</td>\n",
       "      <td>0.939394</td>\n",
       "      <td>0.918182</td>\n",
       "      <td>0.031199</td>\n",
       "      <td>17</td>\n",
       "    </tr>\n",
       "    <tr>\n",
       "      <th>27</th>\n",
       "      <td>0.004401</td>\n",
       "      <td>4.898430e-04</td>\n",
       "      <td>0.002801</td>\n",
       "      <td>4.004720e-04</td>\n",
       "      <td>100</td>\n",
       "      <td>liblinear</td>\n",
       "      <td>{'C': 100, 'solver': 'liblinear'}</td>\n",
       "      <td>0.893939</td>\n",
       "      <td>0.893939</td>\n",
       "      <td>0.969697</td>\n",
       "      <td>0.893939</td>\n",
       "      <td>0.939394</td>\n",
       "      <td>0.918182</td>\n",
       "      <td>0.031199</td>\n",
       "      <td>17</td>\n",
       "    </tr>\n",
       "    <tr>\n",
       "      <th>28</th>\n",
       "      <td>0.402290</td>\n",
       "      <td>7.422591e-02</td>\n",
       "      <td>0.003201</td>\n",
       "      <td>4.002098e-04</td>\n",
       "      <td>100</td>\n",
       "      <td>sag</td>\n",
       "      <td>{'C': 100, 'solver': 'sag'}</td>\n",
       "      <td>0.909091</td>\n",
       "      <td>0.893939</td>\n",
       "      <td>0.969697</td>\n",
       "      <td>0.909091</td>\n",
       "      <td>0.939394</td>\n",
       "      <td>0.924242</td>\n",
       "      <td>0.027104</td>\n",
       "      <td>9</td>\n",
       "    </tr>\n",
       "    <tr>\n",
       "      <th>29</th>\n",
       "      <td>0.430096</td>\n",
       "      <td>4.122105e-02</td>\n",
       "      <td>0.002801</td>\n",
       "      <td>4.003525e-04</td>\n",
       "      <td>100</td>\n",
       "      <td>saga</td>\n",
       "      <td>{'C': 100, 'solver': 'saga'}</td>\n",
       "      <td>0.909091</td>\n",
       "      <td>0.909091</td>\n",
       "      <td>0.969697</td>\n",
       "      <td>0.909091</td>\n",
       "      <td>0.954545</td>\n",
       "      <td>0.930303</td>\n",
       "      <td>0.026418</td>\n",
       "      <td>2</td>\n",
       "    </tr>\n",
       "    <tr>\n",
       "      <th>30</th>\n",
       "      <td>0.017985</td>\n",
       "      <td>6.338218e-04</td>\n",
       "      <td>0.002600</td>\n",
       "      <td>4.897263e-04</td>\n",
       "      <td>1000</td>\n",
       "      <td>newton-cg</td>\n",
       "      <td>{'C': 1000, 'solver': 'newton-cg'}</td>\n",
       "      <td>0.878788</td>\n",
       "      <td>0.909091</td>\n",
       "      <td>0.969697</td>\n",
       "      <td>0.893939</td>\n",
       "      <td>0.939394</td>\n",
       "      <td>0.918182</td>\n",
       "      <td>0.032637</td>\n",
       "      <td>17</td>\n",
       "    </tr>\n",
       "    <tr>\n",
       "      <th>31</th>\n",
       "      <td>0.026006</td>\n",
       "      <td>7.404066e-03</td>\n",
       "      <td>0.003200</td>\n",
       "      <td>4.003290e-04</td>\n",
       "      <td>1000</td>\n",
       "      <td>lbfgs</td>\n",
       "      <td>{'C': 1000, 'solver': 'lbfgs'}</td>\n",
       "      <td>0.878788</td>\n",
       "      <td>0.909091</td>\n",
       "      <td>0.969697</td>\n",
       "      <td>0.893939</td>\n",
       "      <td>0.939394</td>\n",
       "      <td>0.918182</td>\n",
       "      <td>0.032637</td>\n",
       "      <td>17</td>\n",
       "    </tr>\n",
       "    <tr>\n",
       "      <th>32</th>\n",
       "      <td>0.006001</td>\n",
       "      <td>1.549481e-03</td>\n",
       "      <td>0.002201</td>\n",
       "      <td>4.001379e-04</td>\n",
       "      <td>1000</td>\n",
       "      <td>liblinear</td>\n",
       "      <td>{'C': 1000, 'solver': 'liblinear'}</td>\n",
       "      <td>0.878788</td>\n",
       "      <td>0.893939</td>\n",
       "      <td>0.969697</td>\n",
       "      <td>0.893939</td>\n",
       "      <td>0.939394</td>\n",
       "      <td>0.915152</td>\n",
       "      <td>0.034015</td>\n",
       "      <td>23</td>\n",
       "    </tr>\n",
       "    <tr>\n",
       "      <th>33</th>\n",
       "      <td>0.443299</td>\n",
       "      <td>3.144227e-02</td>\n",
       "      <td>0.003801</td>\n",
       "      <td>1.720751e-03</td>\n",
       "      <td>1000</td>\n",
       "      <td>sag</td>\n",
       "      <td>{'C': 1000, 'solver': 'sag'}</td>\n",
       "      <td>0.909091</td>\n",
       "      <td>0.893939</td>\n",
       "      <td>0.969697</td>\n",
       "      <td>0.909091</td>\n",
       "      <td>0.939394</td>\n",
       "      <td>0.924242</td>\n",
       "      <td>0.027104</td>\n",
       "      <td>9</td>\n",
       "    </tr>\n",
       "    <tr>\n",
       "      <th>34</th>\n",
       "      <td>0.440299</td>\n",
       "      <td>4.125712e-02</td>\n",
       "      <td>0.003001</td>\n",
       "      <td>1.784161e-07</td>\n",
       "      <td>1000</td>\n",
       "      <td>saga</td>\n",
       "      <td>{'C': 1000, 'solver': 'saga'}</td>\n",
       "      <td>0.909091</td>\n",
       "      <td>0.909091</td>\n",
       "      <td>0.969697</td>\n",
       "      <td>0.909091</td>\n",
       "      <td>0.954545</td>\n",
       "      <td>0.930303</td>\n",
       "      <td>0.026418</td>\n",
       "      <td>2</td>\n",
       "    </tr>\n",
       "  </tbody>\n",
       "</table>\n",
       "</div>"
      ],
      "text/plain": [
       "    mean_fit_time  std_fit_time  mean_score_time  std_score_time param_C  \\\n",
       "0        0.005801  4.000426e-04         0.002400    4.901740e-04   0.001   \n",
       "1        0.004001  2.336015e-07         0.002201    3.999949e-04   0.001   \n",
       "2        0.002601  4.899987e-04         0.002401    4.899404e-04   0.001   \n",
       "3        0.018804  2.039914e-03         0.002600    4.903102e-04   0.001   \n",
       "4        0.045810  4.119234e-03         0.002801    3.998520e-04   0.001   \n",
       "5        0.007001  6.325605e-04         0.002401    4.899598e-04    0.01   \n",
       "6        0.004201  4.001141e-04         0.002601    4.899793e-04    0.01   \n",
       "7        0.003001  3.234067e-07         0.002801    4.001858e-04    0.01   \n",
       "8        0.039409  3.263007e-03         0.002801    3.999714e-04    0.01   \n",
       "9        0.077817  7.575342e-03         0.002601    4.900182e-04    0.01   \n",
       "10       0.007802  4.002811e-04         0.002000    1.907349e-07     0.1   \n",
       "11       0.004801  4.000425e-04         0.002401    4.901155e-04     0.1   \n",
       "12       0.003001  2.861023e-07         0.002400    4.900961e-04     0.1   \n",
       "13       0.125628  9.689608e-03         0.002801    4.002334e-04     0.1   \n",
       "14       0.235453  2.110994e-02         0.003001    3.873843e-07     0.1   \n",
       "15       0.009202  3.999949e-04         0.002401    4.899793e-04       1   \n",
       "16       0.006801  7.487234e-04         0.002400    4.899015e-04       1   \n",
       "17       0.003001  1.907349e-07         0.003001    1.507891e-07       1   \n",
       "18       0.301492  7.217789e-02         0.003002    7.979012e-07       1   \n",
       "19       0.342590  1.066866e-01         0.003001    7.478899e-07       1   \n",
       "20       0.011003  3.693565e-07         0.002401    4.900182e-04      10   \n",
       "21       0.009402  4.902909e-04         0.002401    4.899210e-04      10   \n",
       "22       0.004001  1.168008e-07         0.002601    4.898625e-04      10   \n",
       "23       0.329274  1.505534e-02         0.002801    4.001144e-04      10   \n",
       "24       0.433424  4.859296e-02         0.003399    1.021920e-03      10   \n",
       "25       0.013803  7.487999e-04         0.002600    4.895315e-04     100   \n",
       "26       0.015603  1.743647e-03         0.003201    7.483921e-04     100   \n",
       "27       0.004401  4.898430e-04         0.002801    4.004720e-04     100   \n",
       "28       0.402290  7.422591e-02         0.003201    4.002098e-04     100   \n",
       "29       0.430096  4.122105e-02         0.002801    4.003525e-04     100   \n",
       "30       0.017985  6.338218e-04         0.002600    4.897263e-04    1000   \n",
       "31       0.026006  7.404066e-03         0.003200    4.003290e-04    1000   \n",
       "32       0.006001  1.549481e-03         0.002201    4.001379e-04    1000   \n",
       "33       0.443299  3.144227e-02         0.003801    1.720751e-03    1000   \n",
       "34       0.440299  4.125712e-02         0.003001    1.784161e-07    1000   \n",
       "\n",
       "   param_solver                               params  split0_test_score  \\\n",
       "0     newton-cg  {'C': 0.001, 'solver': 'newton-cg'}           0.772727   \n",
       "1         lbfgs      {'C': 0.001, 'solver': 'lbfgs'}           0.772727   \n",
       "2     liblinear  {'C': 0.001, 'solver': 'liblinear'}           0.954545   \n",
       "3           sag        {'C': 0.001, 'solver': 'sag'}           0.772727   \n",
       "4          saga       {'C': 0.001, 'solver': 'saga'}           0.772727   \n",
       "5     newton-cg   {'C': 0.01, 'solver': 'newton-cg'}           0.833333   \n",
       "6         lbfgs       {'C': 0.01, 'solver': 'lbfgs'}           0.833333   \n",
       "7     liblinear   {'C': 0.01, 'solver': 'liblinear'}           0.924242   \n",
       "8           sag         {'C': 0.01, 'solver': 'sag'}           0.833333   \n",
       "9          saga        {'C': 0.01, 'solver': 'saga'}           0.833333   \n",
       "10    newton-cg    {'C': 0.1, 'solver': 'newton-cg'}           0.863636   \n",
       "11        lbfgs        {'C': 0.1, 'solver': 'lbfgs'}           0.863636   \n",
       "12    liblinear    {'C': 0.1, 'solver': 'liblinear'}           0.893939   \n",
       "13          sag          {'C': 0.1, 'solver': 'sag'}           0.863636   \n",
       "14         saga         {'C': 0.1, 'solver': 'saga'}           0.863636   \n",
       "15    newton-cg      {'C': 1, 'solver': 'newton-cg'}           0.909091   \n",
       "16        lbfgs          {'C': 1, 'solver': 'lbfgs'}           0.909091   \n",
       "17    liblinear      {'C': 1, 'solver': 'liblinear'}           0.909091   \n",
       "18          sag            {'C': 1, 'solver': 'sag'}           0.909091   \n",
       "19         saga           {'C': 1, 'solver': 'saga'}           0.909091   \n",
       "20    newton-cg     {'C': 10, 'solver': 'newton-cg'}           0.909091   \n",
       "21        lbfgs         {'C': 10, 'solver': 'lbfgs'}           0.909091   \n",
       "22    liblinear     {'C': 10, 'solver': 'liblinear'}           0.909091   \n",
       "23          sag           {'C': 10, 'solver': 'sag'}           0.909091   \n",
       "24         saga          {'C': 10, 'solver': 'saga'}           0.909091   \n",
       "25    newton-cg    {'C': 100, 'solver': 'newton-cg'}           0.893939   \n",
       "26        lbfgs        {'C': 100, 'solver': 'lbfgs'}           0.893939   \n",
       "27    liblinear    {'C': 100, 'solver': 'liblinear'}           0.893939   \n",
       "28          sag          {'C': 100, 'solver': 'sag'}           0.909091   \n",
       "29         saga         {'C': 100, 'solver': 'saga'}           0.909091   \n",
       "30    newton-cg   {'C': 1000, 'solver': 'newton-cg'}           0.878788   \n",
       "31        lbfgs       {'C': 1000, 'solver': 'lbfgs'}           0.878788   \n",
       "32    liblinear   {'C': 1000, 'solver': 'liblinear'}           0.878788   \n",
       "33          sag         {'C': 1000, 'solver': 'sag'}           0.909091   \n",
       "34         saga        {'C': 1000, 'solver': 'saga'}           0.909091   \n",
       "\n",
       "    split1_test_score  split2_test_score  split3_test_score  \\\n",
       "0            0.818182           0.893939           0.833333   \n",
       "1            0.818182           0.893939           0.833333   \n",
       "2            1.000000           0.954545           0.954545   \n",
       "3            0.818182           0.893939           0.833333   \n",
       "4            0.818182           0.893939           0.833333   \n",
       "5            0.878788           0.939394           0.893939   \n",
       "6            0.878788           0.939394           0.893939   \n",
       "7            0.909091           0.954545           0.909091   \n",
       "8            0.878788           0.939394           0.893939   \n",
       "9            0.878788           0.939394           0.893939   \n",
       "10           0.893939           0.954545           0.909091   \n",
       "11           0.893939           0.954545           0.909091   \n",
       "12           0.893939           0.954545           0.909091   \n",
       "13           0.893939           0.954545           0.909091   \n",
       "14           0.893939           0.954545           0.909091   \n",
       "15           0.909091           0.954545           0.909091   \n",
       "16           0.909091           0.954545           0.909091   \n",
       "17           0.909091           0.954545           0.909091   \n",
       "18           0.909091           0.954545           0.909091   \n",
       "19           0.909091           0.954545           0.909091   \n",
       "20           0.893939           0.969697           0.909091   \n",
       "21           0.893939           0.969697           0.909091   \n",
       "22           0.893939           0.969697           0.909091   \n",
       "23           0.893939           0.969697           0.909091   \n",
       "24           0.909091           0.969697           0.909091   \n",
       "25           0.893939           0.969697           0.893939   \n",
       "26           0.893939           0.969697           0.893939   \n",
       "27           0.893939           0.969697           0.893939   \n",
       "28           0.893939           0.969697           0.909091   \n",
       "29           0.909091           0.969697           0.909091   \n",
       "30           0.909091           0.969697           0.893939   \n",
       "31           0.909091           0.969697           0.893939   \n",
       "32           0.893939           0.969697           0.893939   \n",
       "33           0.893939           0.969697           0.909091   \n",
       "34           0.909091           0.969697           0.909091   \n",
       "\n",
       "    split4_test_score  mean_test_score  std_test_score  rank_test_score  \n",
       "0            0.833333         0.830303        0.038807               32  \n",
       "1            0.833333         0.830303        0.038807               32  \n",
       "2            0.984848         0.969697        0.019165                1  \n",
       "3            0.833333         0.830303        0.038807               32  \n",
       "4            0.833333         0.830303        0.038807               32  \n",
       "5            0.924242         0.893939        0.037113               28  \n",
       "6            0.924242         0.893939        0.037113               28  \n",
       "7            0.939394         0.927273        0.017670                5  \n",
       "8            0.924242         0.893939        0.037113               28  \n",
       "9            0.924242         0.893939        0.037113               28  \n",
       "10           0.939394         0.912121        0.032355               24  \n",
       "11           0.939394         0.912121        0.032355               24  \n",
       "12           0.939394         0.918182        0.024618               22  \n",
       "13           0.939394         0.912121        0.032355               24  \n",
       "14           0.939394         0.912121        0.032355               24  \n",
       "15           0.954545         0.927273        0.022268                5  \n",
       "16           0.954545         0.927273        0.022268                5  \n",
       "17           0.939394         0.924242        0.019165                9  \n",
       "18           0.939394         0.924242        0.019165                9  \n",
       "19           0.939394         0.924242        0.019165                9  \n",
       "20           0.939394         0.924242        0.027104                9  \n",
       "21           0.939394         0.924242        0.027104                9  \n",
       "22           0.939394         0.924242        0.027104                9  \n",
       "23           0.954545         0.927273        0.029380                5  \n",
       "24           0.954545         0.930303        0.026418                2  \n",
       "25           0.939394         0.918182        0.031199               17  \n",
       "26           0.939394         0.918182        0.031199               17  \n",
       "27           0.939394         0.918182        0.031199               17  \n",
       "28           0.939394         0.924242        0.027104                9  \n",
       "29           0.954545         0.930303        0.026418                2  \n",
       "30           0.939394         0.918182        0.032637               17  \n",
       "31           0.939394         0.918182        0.032637               17  \n",
       "32           0.939394         0.915152        0.034015               23  \n",
       "33           0.939394         0.924242        0.027104                9  \n",
       "34           0.954545         0.930303        0.026418                2  "
      ]
     },
     "execution_count": 55,
     "metadata": {},
     "output_type": "execute_result"
    }
   ],
   "source": [
    "# Visualizando o que foi feito pelo GridSearchCV em um DataFrame\n",
    "pd.DataFrame(clf_RL_GS.cv_results_)"
   ]
  },
  {
   "cell_type": "markdown",
   "id": "ed1d27ee",
   "metadata": {},
   "source": [
    "#### Melhorando parâmetros para o modelo SVC <a class=\"anchor\" id=\"svc\"></a>"
   ]
  },
  {
   "cell_type": "code",
   "execution_count": 56,
   "id": "e25baac3",
   "metadata": {},
   "outputs": [],
   "source": [
    "# Parametros do SVC que irei testar\n",
    "parametros = {\n",
    "    'C': [0.001,0.01,0.1,1,10,100,1000],\n",
    "    'kernel': ['linear','poly','rbf','sigmoid'],\n",
    "    'gamma': ['scale','auto']\n",
    "}"
   ]
  },
  {
   "cell_type": "code",
   "execution_count": 57,
   "id": "c0c8b2db",
   "metadata": {},
   "outputs": [],
   "source": [
    "# Selecionando a SVC\n",
    "svc_GS = SVC(random_state=0,probability=True)"
   ]
  },
  {
   "cell_type": "code",
   "execution_count": 58,
   "id": "f423bf0e",
   "metadata": {},
   "outputs": [],
   "source": [
    "# Criando um novo classificador usando os parâmetros que escolhemos anteriormente\n",
    "clf_SVC_GS = GridSearchCV(svc_GS,parametros,\n",
    "                     scoring='recall'\n",
    "                     )"
   ]
  },
  {
   "cell_type": "code",
   "execution_count": 59,
   "id": "4a935762",
   "metadata": {},
   "outputs": [
    {
     "data": {
      "text/html": [
       "<style>#sk-container-id-1 {color: black;}#sk-container-id-1 pre{padding: 0;}#sk-container-id-1 div.sk-toggleable {background-color: white;}#sk-container-id-1 label.sk-toggleable__label {cursor: pointer;display: block;width: 100%;margin-bottom: 0;padding: 0.3em;box-sizing: border-box;text-align: center;}#sk-container-id-1 label.sk-toggleable__label-arrow:before {content: \"▸\";float: left;margin-right: 0.25em;color: #696969;}#sk-container-id-1 label.sk-toggleable__label-arrow:hover:before {color: black;}#sk-container-id-1 div.sk-estimator:hover label.sk-toggleable__label-arrow:before {color: black;}#sk-container-id-1 div.sk-toggleable__content {max-height: 0;max-width: 0;overflow: hidden;text-align: left;background-color: #f0f8ff;}#sk-container-id-1 div.sk-toggleable__content pre {margin: 0.2em;color: black;border-radius: 0.25em;background-color: #f0f8ff;}#sk-container-id-1 input.sk-toggleable__control:checked~div.sk-toggleable__content {max-height: 200px;max-width: 100%;overflow: auto;}#sk-container-id-1 input.sk-toggleable__control:checked~label.sk-toggleable__label-arrow:before {content: \"▾\";}#sk-container-id-1 div.sk-estimator input.sk-toggleable__control:checked~label.sk-toggleable__label {background-color: #d4ebff;}#sk-container-id-1 div.sk-label input.sk-toggleable__control:checked~label.sk-toggleable__label {background-color: #d4ebff;}#sk-container-id-1 input.sk-hidden--visually {border: 0;clip: rect(1px 1px 1px 1px);clip: rect(1px, 1px, 1px, 1px);height: 1px;margin: -1px;overflow: hidden;padding: 0;position: absolute;width: 1px;}#sk-container-id-1 div.sk-estimator {font-family: monospace;background-color: #f0f8ff;border: 1px dotted black;border-radius: 0.25em;box-sizing: border-box;margin-bottom: 0.5em;}#sk-container-id-1 div.sk-estimator:hover {background-color: #d4ebff;}#sk-container-id-1 div.sk-parallel-item::after {content: \"\";width: 100%;border-bottom: 1px solid gray;flex-grow: 1;}#sk-container-id-1 div.sk-label:hover label.sk-toggleable__label {background-color: #d4ebff;}#sk-container-id-1 div.sk-serial::before {content: \"\";position: absolute;border-left: 1px solid gray;box-sizing: border-box;top: 0;bottom: 0;left: 50%;z-index: 0;}#sk-container-id-1 div.sk-serial {display: flex;flex-direction: column;align-items: center;background-color: white;padding-right: 0.2em;padding-left: 0.2em;position: relative;}#sk-container-id-1 div.sk-item {position: relative;z-index: 1;}#sk-container-id-1 div.sk-parallel {display: flex;align-items: stretch;justify-content: center;background-color: white;position: relative;}#sk-container-id-1 div.sk-item::before, #sk-container-id-1 div.sk-parallel-item::before {content: \"\";position: absolute;border-left: 1px solid gray;box-sizing: border-box;top: 0;bottom: 0;left: 50%;z-index: -1;}#sk-container-id-1 div.sk-parallel-item {display: flex;flex-direction: column;z-index: 1;position: relative;background-color: white;}#sk-container-id-1 div.sk-parallel-item:first-child::after {align-self: flex-end;width: 50%;}#sk-container-id-1 div.sk-parallel-item:last-child::after {align-self: flex-start;width: 50%;}#sk-container-id-1 div.sk-parallel-item:only-child::after {width: 0;}#sk-container-id-1 div.sk-dashed-wrapped {border: 1px dashed gray;margin: 0 0.4em 0.5em 0.4em;box-sizing: border-box;padding-bottom: 0.4em;background-color: white;}#sk-container-id-1 div.sk-label label {font-family: monospace;font-weight: bold;display: inline-block;line-height: 1.2em;}#sk-container-id-1 div.sk-label-container {text-align: center;}#sk-container-id-1 div.sk-container {/* jupyter's `normalize.less` sets `[hidden] { display: none; }` but bootstrap.min.css set `[hidden] { display: none !important; }` so we also need the `!important` here to be able to override the default hidden behavior on the sphinx rendered scikit-learn.org. See: https://github.com/scikit-learn/scikit-learn/issues/21755 */display: inline-block !important;position: relative;}#sk-container-id-1 div.sk-text-repr-fallback {display: none;}</style><div id=\"sk-container-id-1\" class=\"sk-top-container\"><div class=\"sk-text-repr-fallback\"><pre>GridSearchCV(estimator=SVC(probability=True, random_state=0),\n",
       "             param_grid={&#x27;C&#x27;: [0.001, 0.01, 0.1, 1, 10, 100, 1000],\n",
       "                         &#x27;gamma&#x27;: [&#x27;scale&#x27;, &#x27;auto&#x27;],\n",
       "                         &#x27;kernel&#x27;: [&#x27;linear&#x27;, &#x27;poly&#x27;, &#x27;rbf&#x27;, &#x27;sigmoid&#x27;]},\n",
       "             scoring=&#x27;recall&#x27;)</pre><b>In a Jupyter environment, please rerun this cell to show the HTML representation or trust the notebook. <br />On GitHub, the HTML representation is unable to render, please try loading this page with nbviewer.org.</b></div><div class=\"sk-container\" hidden><div class=\"sk-item sk-dashed-wrapped\"><div class=\"sk-label-container\"><div class=\"sk-label sk-toggleable\"><input class=\"sk-toggleable__control sk-hidden--visually\" id=\"sk-estimator-id-1\" type=\"checkbox\" ><label for=\"sk-estimator-id-1\" class=\"sk-toggleable__label sk-toggleable__label-arrow\">GridSearchCV</label><div class=\"sk-toggleable__content\"><pre>GridSearchCV(estimator=SVC(probability=True, random_state=0),\n",
       "             param_grid={&#x27;C&#x27;: [0.001, 0.01, 0.1, 1, 10, 100, 1000],\n",
       "                         &#x27;gamma&#x27;: [&#x27;scale&#x27;, &#x27;auto&#x27;],\n",
       "                         &#x27;kernel&#x27;: [&#x27;linear&#x27;, &#x27;poly&#x27;, &#x27;rbf&#x27;, &#x27;sigmoid&#x27;]},\n",
       "             scoring=&#x27;recall&#x27;)</pre></div></div></div><div class=\"sk-parallel\"><div class=\"sk-parallel-item\"><div class=\"sk-item\"><div class=\"sk-label-container\"><div class=\"sk-label sk-toggleable\"><input class=\"sk-toggleable__control sk-hidden--visually\" id=\"sk-estimator-id-2\" type=\"checkbox\" ><label for=\"sk-estimator-id-2\" class=\"sk-toggleable__label sk-toggleable__label-arrow\">estimator: SVC</label><div class=\"sk-toggleable__content\"><pre>SVC(probability=True, random_state=0)</pre></div></div></div><div class=\"sk-serial\"><div class=\"sk-item\"><div class=\"sk-estimator sk-toggleable\"><input class=\"sk-toggleable__control sk-hidden--visually\" id=\"sk-estimator-id-3\" type=\"checkbox\" ><label for=\"sk-estimator-id-3\" class=\"sk-toggleable__label sk-toggleable__label-arrow\">SVC</label><div class=\"sk-toggleable__content\"><pre>SVC(probability=True, random_state=0)</pre></div></div></div></div></div></div></div></div></div></div>"
      ],
      "text/plain": [
       "GridSearchCV(estimator=SVC(probability=True, random_state=0),\n",
       "             param_grid={'C': [0.001, 0.01, 0.1, 1, 10, 100, 1000],\n",
       "                         'gamma': ['scale', 'auto'],\n",
       "                         'kernel': ['linear', 'poly', 'rbf', 'sigmoid']},\n",
       "             scoring='recall')"
      ]
     },
     "execution_count": 59,
     "metadata": {},
     "output_type": "execute_result"
    }
   ],
   "source": [
    "# Fazendo o fit dos nossos dados\n",
    "clf_SVC_GS.fit(X_resRU, y_resRU)"
   ]
  },
  {
   "cell_type": "code",
   "execution_count": 60,
   "id": "8ede8b4f",
   "metadata": {},
   "outputs": [
    {
     "data": {
      "text/plain": [
       "{'C': 100, 'gamma': 'auto', 'kernel': 'rbf'}"
      ]
     },
     "execution_count": 60,
     "metadata": {},
     "output_type": "execute_result"
    }
   ],
   "source": [
    "# Visualizando os melhores parâmetros definidos pelo GridSearchCV \n",
    "clf_SVC_GS.best_params_"
   ]
  },
  {
   "cell_type": "code",
   "execution_count": 61,
   "id": "39e9a2ae",
   "metadata": {},
   "outputs": [],
   "source": [
    "# Usando esse modelo para fazer as previsões\n",
    "y_pred_SVC_GS = clf_SVC_GS.predict(X_test)"
   ]
  },
  {
   "cell_type": "code",
   "execution_count": 62,
   "id": "4b8a2e45",
   "metadata": {},
   "outputs": [
    {
     "data": {
      "text/plain": [
       "array([[84402,  9423],\n",
       "       [   13,   149]], dtype=int64)"
      ]
     },
     "execution_count": 62,
     "metadata": {},
     "output_type": "execute_result"
    }
   ],
   "source": [
    "# Analisando a matriz de confusão \n",
    "confusion_matrix(y_test,y_pred_SVC_GS)"
   ]
  },
  {
   "cell_type": "markdown",
   "id": "eea05f5c",
   "metadata": {},
   "source": [
    "#### Melhorando parâmetros para Random Forest <a class=\"anchor\" id=\"rf\"></a>"
   ]
  },
  {
   "cell_type": "code",
   "execution_count": 63,
   "id": "720eabb8",
   "metadata": {},
   "outputs": [],
   "source": [
    "# Parâmetros do Random Forest que irei utilizar\n",
    "parametros = {\n",
    "    'n_estimators':[10,20,30,40,50,100,200],\n",
    "    'criterion': ['gini','entropy','log_loss'],\n",
    "    'max_depth': [2,3,4,5,6,7,8,9]\n",
    "}"
   ]
  },
  {
   "cell_type": "code",
   "execution_count": 64,
   "id": "90ac8c75",
   "metadata": {},
   "outputs": [],
   "source": [
    "# Selecionando o Random Forest\n",
    "RF_GS = RandomForestClassifier(random_state=0)"
   ]
  },
  {
   "cell_type": "code",
   "execution_count": 65,
   "id": "e79ed2f3",
   "metadata": {},
   "outputs": [],
   "source": [
    "# Criando um novo classificador usando os parâmetros que escolhemos anteriormente\n",
    "clf_RF_GS = GridSearchCV(RF_GS,parametros,\n",
    "                     scoring='recall'\n",
    "                     )"
   ]
  },
  {
   "cell_type": "code",
   "execution_count": 66,
   "id": "2a9ce4e5",
   "metadata": {},
   "outputs": [],
   "source": [
    "# Fazendo o fit dos nossos dados\n",
    "clf_RF_GS = clf_RF_GS.fit(X_resRU,y_resRU)"
   ]
  },
  {
   "cell_type": "code",
   "execution_count": 67,
   "id": "dcf83d89",
   "metadata": {},
   "outputs": [
    {
     "data": {
      "text/plain": [
       "{'criterion': 'gini', 'max_depth': 8, 'n_estimators': 30}"
      ]
     },
     "execution_count": 67,
     "metadata": {},
     "output_type": "execute_result"
    }
   ],
   "source": [
    "# Visualizando os melhores parâmetros definidos pelo GridSearchCV \n",
    "clf_RF_GS.best_params_"
   ]
  },
  {
   "cell_type": "code",
   "execution_count": 68,
   "id": "6830a963",
   "metadata": {},
   "outputs": [],
   "source": [
    "# Usando esse modelo para fazer as previsões\n",
    "y_pred_RF_GS = clf_RF_GS.predict(X_test)"
   ]
  },
  {
   "cell_type": "code",
   "execution_count": 69,
   "id": "aef64a33",
   "metadata": {},
   "outputs": [
    {
     "data": {
      "text/plain": [
       "array([[91100,  2725],\n",
       "       [   17,   145]], dtype=int64)"
      ]
     },
     "execution_count": 69,
     "metadata": {},
     "output_type": "execute_result"
    }
   ],
   "source": [
    "# Analisando a matriz de confusão\n",
    "confusion_matrix(y_test,y_pred_RF_GS)"
   ]
  },
  {
   "cell_type": "markdown",
   "id": "3f165788",
   "metadata": {},
   "source": [
    "#### Melhorando parametros para KNN <a class=\"anchor\" id=\"knn\"></a>"
   ]
  },
  {
   "cell_type": "code",
   "execution_count": 70,
   "id": "696661f8",
   "metadata": {},
   "outputs": [],
   "source": [
    "# Utilizando os parâmetros do KNN\n",
    "parametros = {\n",
    "    'n_neighbors': [3,5,7,9,11],\n",
    "    'algorithm': ['auto','ball_tree','kd_tree','brute'],\n",
    "    'weights': ['uniform','distance']\n",
    "}"
   ]
  },
  {
   "cell_type": "code",
   "execution_count": 78,
   "id": "3153dd01",
   "metadata": {},
   "outputs": [],
   "source": [
    "# Selecionando o KNN\n",
    "KNN_GS = KNeighborsClassifier()"
   ]
  },
  {
   "cell_type": "code",
   "execution_count": 79,
   "id": "cd7e5d2f",
   "metadata": {},
   "outputs": [],
   "source": [
    "# Criando um novo classificador usando os parâmetros que escolhemos anteriormente\n",
    "clf_KNN_GS = GridSearchCV(KNN_GS, parametros,\n",
    "                     scoring='recall'\n",
    "                     )"
   ]
  },
  {
   "cell_type": "code",
   "execution_count": 81,
   "id": "066410e4",
   "metadata": {},
   "outputs": [],
   "source": [
    "# Fazendo o fit dos nossos dados\n",
    "clf_KNN_GS = clf_KNN_GS.fit(X_resRU.values,y_resRU.values)"
   ]
  },
  {
   "cell_type": "code",
   "execution_count": 82,
   "id": "7026a085",
   "metadata": {},
   "outputs": [
    {
     "data": {
      "text/plain": [
       "{'algorithm': 'auto', 'n_neighbors': 3, 'weights': 'uniform'}"
      ]
     },
     "execution_count": 82,
     "metadata": {},
     "output_type": "execute_result"
    }
   ],
   "source": [
    "clf_KNN_GS.best_params_"
   ]
  },
  {
   "cell_type": "code",
   "execution_count": 84,
   "id": "5404c0df",
   "metadata": {},
   "outputs": [],
   "source": [
    "# Usando esse modelo para fazer as previsões\n",
    "y_pred_KNN_GS = clf_KNN_GS.predict(X_test.values)"
   ]
  },
  {
   "cell_type": "code",
   "execution_count": 85,
   "id": "9cd74260",
   "metadata": {},
   "outputs": [
    {
     "data": {
      "text/plain": [
       "array([[91136,  2689],\n",
       "       [   15,   147]], dtype=int64)"
      ]
     },
     "execution_count": 85,
     "metadata": {},
     "output_type": "execute_result"
    }
   ],
   "source": [
    "# Analisando a matriz de confusão\n",
    "confusion_matrix(y_test,y_pred_KNN_GS)"
   ]
  },
  {
   "cell_type": "markdown",
   "id": "52ef16cc",
   "metadata": {},
   "source": [
    "### Conclusão: Selecionando o modelo que melhor atende o objetivo <a class=\"anchor\" id=\"conclusion\"></a>\n",
    "\n",
    "Para este modelo, o objetivo que tive foi manter o número de erro nas transações fraude o menor o possível mantendo também uma proporção aceitávei para as transações não fraude.\n",
    "\n",
    "Desta forma o modelo que será utilizado será o modelo de Regressão Logística, utilizando o RandomUnderSampling e com os seguintes parâmetros:\n",
    "- 'C': 0.001\n",
    "- 'solver': 'liblinear'\n",
    "\n",
    "Este modelo obteve como desempenho a seguinte matriz de confusão:\n",
    "- Das 93.825 transações não fraude, o modelo identificou 81.700 como não fraude e 12.125 como fraude, desta forma, aproximadamente 12,9% dos dados tiveram a previsão incorreta.\n",
    "- Das 162 transações fraude, o modelo identificou corretamente 152 como fraude e 10 como não fraude, desta forma, aproximadamente 6,17% dos dados tiveram a previsão incorreta.\n",
    "\n",
    "Para este projeto escolhi como objetivo priorizar o \"recall\", que é referente as transações fraude, este modelo teve um recall de aproximadamente 93%, porém seria possível buscar outras formas de priorizar de acordo com as necessidades, podendo buscar uma melhor precisão, um modelo que buscasse o melhor para ambos, tudo dependendo da necessidade do projeto."
   ]
  }
 ],
 "metadata": {
  "kernelspec": {
   "display_name": "Python 3 (ipykernel)",
   "language": "python",
   "name": "python3"
  },
  "language_info": {
   "codemirror_mode": {
    "name": "ipython",
    "version": 3
   },
   "file_extension": ".py",
   "mimetype": "text/x-python",
   "name": "python",
   "nbconvert_exporter": "python",
   "pygments_lexer": "ipython3",
   "version": "3.11.5"
  }
 },
 "nbformat": 4,
 "nbformat_minor": 5
}
